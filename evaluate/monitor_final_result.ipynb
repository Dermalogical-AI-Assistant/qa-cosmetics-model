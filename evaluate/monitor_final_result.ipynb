{
 "cells": [
  {
   "cell_type": "markdown",
   "id": "4b22881d",
   "metadata": {},
   "source": [
    "# Skincare Concern"
   ]
  },
  {
   "cell_type": "code",
   "execution_count": 36,
   "id": "d47eaa7f",
   "metadata": {},
   "outputs": [],
   "source": [
    "import pandas as pd \n",
    "df = pd.read_csv(r'result/tdcosmetics/neo4j/products/neo4j_products_skincare_concern.csv')"
   ]
  },
  {
   "cell_type": "code",
   "execution_count": 37,
   "id": "7bc00217",
   "metadata": {},
   "outputs": [
    {
     "data": {
      "text/plain": [
       "Score\n",
       "100.0    3391\n",
       "75.0       79\n",
       "85.0        9\n",
       "80.0        9\n",
       "70.0        6\n",
       "95.0        5\n",
       "30.0        2\n",
       "60.0        2\n",
       "20.0        2\n",
       "50.0        1\n",
       "Name: count, dtype: int64"
      ]
     },
     "execution_count": 37,
     "metadata": {},
     "output_type": "execute_result"
    }
   ],
   "source": [
    "df['Score'].value_counts()"
   ]
  },
  {
   "cell_type": "code",
   "execution_count": 38,
   "id": "9d5217cc",
   "metadata": {},
   "outputs": [
    {
     "data": {
      "text/plain": [
       "Score\n",
       "100.0    3374\n",
       "75.0       76\n",
       "85.0        8\n",
       "80.0        8\n",
       "70.0        6\n",
       "95.0        5\n",
       "30.0        2\n",
       "60.0        2\n",
       "20.0        2\n",
       "50.0        1\n",
       "Name: count, dtype: int64"
      ]
     },
     "execution_count": 38,
     "metadata": {},
     "output_type": "execute_result"
    }
   ],
   "source": [
    "df.drop_duplicates(subset=['Question', 'Answer'], inplace=True)\n",
    "df['Score'].value_counts()"
   ]
  },
  {
   "cell_type": "code",
   "execution_count": 39,
   "id": "dbd03148",
   "metadata": {},
   "outputs": [
    {
     "data": {
      "text/plain": [
       "0.9979908151549942"
      ]
     },
     "execution_count": 39,
     "metadata": {},
     "output_type": "execute_result"
    }
   ],
   "source": [
    "len(df[df['Score'] >= 70]) / len(df)"
   ]
  },
  {
   "cell_type": "code",
   "execution_count": 40,
   "id": "823f736a",
   "metadata": {},
   "outputs": [],
   "source": [
    "def print_info(row, df):\n",
    "    print(f'Question: {df.loc[row, 'Question']}')\n",
    "    print(f'Correct Answer: {df.loc[row, 'Answer']} \\n')\n",
    "    print(f'Generated Answer: {df.loc[row, 'Generated_Answer']} \\n')\n",
    "    print(f'Score: {df.loc[row, 'Score']}')\n",
    "    print(f'Accuracy: {df.loc[row, 'Accuracy']}')\n",
    "    print(f'Relevance: {df.loc[row, 'Relevance']}')\n",
    "    print(f'Explanation: {df.loc[row, 'Explanation']}')"
   ]
  },
  {
   "cell_type": "code",
   "execution_count": 42,
   "id": "44154470",
   "metadata": {},
   "outputs": [
    {
     "data": {
      "text/plain": [
       "0.996268656716418"
      ]
     },
     "execution_count": 42,
     "metadata": {},
     "output_type": "execute_result"
    }
   ],
   "source": [
    "len(df[df['Score'] > 70]) / len(df)"
   ]
  },
  {
   "cell_type": "code",
   "execution_count": 43,
   "id": "f122945d",
   "metadata": {},
   "outputs": [
    {
     "data": {
      "text/plain": [
       "Score\n",
       "60.0    2\n",
       "30.0    2\n",
       "20.0    2\n",
       "50.0    1\n",
       "Name: count, dtype: int64"
      ]
     },
     "execution_count": 43,
     "metadata": {},
     "output_type": "execute_result"
    }
   ],
   "source": [
    "df[df['Score'] < 70]['Score'].value_counts()"
   ]
  },
  {
   "cell_type": "code",
   "execution_count": 44,
   "id": "4e6cb89d",
   "metadata": {},
   "outputs": [],
   "source": [
    "df.to_csv(r'result/tdcosmetics/neo4j/products/neo4j_products_skincare_concern.csv', index=False)"
   ]
  },
  {
   "cell_type": "markdown",
   "id": "1173c7c3",
   "metadata": {},
   "source": [
    "# How to use"
   ]
  },
  {
   "cell_type": "code",
   "execution_count": 116,
   "id": "9ebb3cf3",
   "metadata": {},
   "outputs": [],
   "source": [
    "df = pd.read_csv(r'result/tdcosmetics/neo4j/products/neo4j_products_how_to_use.csv')"
   ]
  },
  {
   "cell_type": "code",
   "execution_count": 117,
   "id": "59da5993",
   "metadata": {},
   "outputs": [
    {
     "data": {
      "text/html": [
       "<div>\n",
       "<style scoped>\n",
       "    .dataframe tbody tr th:only-of-type {\n",
       "        vertical-align: middle;\n",
       "    }\n",
       "\n",
       "    .dataframe tbody tr th {\n",
       "        vertical-align: top;\n",
       "    }\n",
       "\n",
       "    .dataframe thead th {\n",
       "        text-align: right;\n",
       "    }\n",
       "</style>\n",
       "<table border=\"1\" class=\"dataframe\">\n",
       "  <thead>\n",
       "    <tr style=\"text-align: right;\">\n",
       "      <th></th>\n",
       "      <th>Question</th>\n",
       "      <th>Answer</th>\n",
       "      <th>Generated_Answer</th>\n",
       "      <th>Response_Time</th>\n",
       "      <th>Verdict</th>\n",
       "      <th>Score</th>\n",
       "      <th>Explanation</th>\n",
       "      <th>Accuracy</th>\n",
       "      <th>Relevance</th>\n",
       "    </tr>\n",
       "  </thead>\n",
       "  <tbody>\n",
       "    <tr>\n",
       "      <th>0</th>\n",
       "      <td>How to use By Terry Cellularose CC Serum 30ml ...</td>\n",
       "      <td>Apply to the contours of the face with the tip...</td>\n",
       "      <td>To use By Terry Cellularose CC Serum, apply it...</td>\n",
       "      <td>15.708499</td>\n",
       "      <td>Correct</td>\n",
       "      <td>100.0</td>\n",
       "      <td>The generated answer aligns fully with the ref...</td>\n",
       "      <td>High</td>\n",
       "      <td>High</td>\n",
       "    </tr>\n",
       "    <tr>\n",
       "      <th>1</th>\n",
       "      <td>How to use La Roche-Posay Effaclar Duo+M Anti-...</td>\n",
       "      <td>☼ AM / ☽ PM\\nWhen to Use: After using Effaclar...</td>\n",
       "      <td>To use La Roche-Posay Effaclar Duo+M Anti-Blem...</td>\n",
       "      <td>4.328263</td>\n",
       "      <td>Correct</td>\n",
       "      <td>100.0</td>\n",
       "      <td>The generated answer is fully aligned with the...</td>\n",
       "      <td>High</td>\n",
       "      <td>High</td>\n",
       "    </tr>\n",
       "    <tr>\n",
       "      <th>2</th>\n",
       "      <td>How to use Omorovicza Ultramoor Mud Mask 50ml?</td>\n",
       "      <td>Apply a generous amount to face and neck, avoi...</td>\n",
       "      <td>To use the Omorovicza Ultramoor Mud Mask, appl...</td>\n",
       "      <td>3.861891</td>\n",
       "      <td>Correct</td>\n",
       "      <td>100.0</td>\n",
       "      <td>The generated answer is fully accurate and ali...</td>\n",
       "      <td>High</td>\n",
       "      <td>High</td>\n",
       "    </tr>\n",
       "    <tr>\n",
       "      <th>3</th>\n",
       "      <td>How to use Glow Hub Tinted Sun Silk SPF 30 50m...</td>\n",
       "      <td>☼ AM\\nWhen to Use: After moisturiser, before m...</td>\n",
       "      <td>To use Glow Hub Tinted Sun Silk SPF 30, apply ...</td>\n",
       "      <td>3.163632</td>\n",
       "      <td>Correct</td>\n",
       "      <td>100.0</td>\n",
       "      <td>The generated answer is fully aligned with the...</td>\n",
       "      <td>High</td>\n",
       "      <td>High</td>\n",
       "    </tr>\n",
       "    <tr>\n",
       "      <th>4</th>\n",
       "      <td>How to use The INKEY List Salicylic Acid Clean...</td>\n",
       "      <td>☼ AM / ☽ PM\\nWhen to Use: Use as first step in...</td>\n",
       "      <td>To use The INKEY List Salicylic Acid Cleanser,...</td>\n",
       "      <td>4.047894</td>\n",
       "      <td>Correct</td>\n",
       "      <td>100.0</td>\n",
       "      <td>The generated answer aligns with the reference...</td>\n",
       "      <td>High</td>\n",
       "      <td>High</td>\n",
       "    </tr>\n",
       "    <tr>\n",
       "      <th>...</th>\n",
       "      <td>...</td>\n",
       "      <td>...</td>\n",
       "      <td>...</td>\n",
       "      <td>...</td>\n",
       "      <td>...</td>\n",
       "      <td>...</td>\n",
       "      <td>...</td>\n",
       "      <td>...</td>\n",
       "      <td>...</td>\n",
       "    </tr>\n",
       "    <tr>\n",
       "      <th>1032</th>\n",
       "      <td>How to use Eucerin Hyaluron-Filler Day Cream S...</td>\n",
       "      <td>☼ AM\\nWhen to Use: After cleansing.\\nApplicati...</td>\n",
       "      <td>To use Eucerin Hyaluron-Filler Day Cream SPF30...</td>\n",
       "      <td>3.885011</td>\n",
       "      <td>Correct</td>\n",
       "      <td>100.0</td>\n",
       "      <td>The generated answer aligns perfectly with the...</td>\n",
       "      <td>High</td>\n",
       "      <td>High</td>\n",
       "    </tr>\n",
       "    <tr>\n",
       "      <th>1033</th>\n",
       "      <td>How to use Sarah Chapman Skinesis Professional...</td>\n",
       "      <td>Application: Soak mitts in warm water, slot ov...</td>\n",
       "      <td>To use the Sarah Chapman Skinesis Professional...</td>\n",
       "      <td>3.163924</td>\n",
       "      <td>Correct</td>\n",
       "      <td>100.0</td>\n",
       "      <td>The generated answer accurately follows the in...</td>\n",
       "      <td>High</td>\n",
       "      <td>High</td>\n",
       "    </tr>\n",
       "    <tr>\n",
       "      <th>1034</th>\n",
       "      <td>How to use L'Oréal Paris Dermo Expertise Tripl...</td>\n",
       "      <td>You only need to apply this triple-action crea...</td>\n",
       "      <td>To use L'Oréal Paris Dermo Expertise Triple Ac...</td>\n",
       "      <td>3.833030</td>\n",
       "      <td>Correct</td>\n",
       "      <td>100.0</td>\n",
       "      <td>The generated answer aligns perfectly with the...</td>\n",
       "      <td>High</td>\n",
       "      <td>High</td>\n",
       "    </tr>\n",
       "    <tr>\n",
       "      <th>1035</th>\n",
       "      <td>How to use Herbivore Orchid Camellia and Jasmi...</td>\n",
       "      <td>Apply 3–10 drops to cleansed and toned skin mo...</td>\n",
       "      <td>To use the Herbivore Orchid Camellia and Jasmi...</td>\n",
       "      <td>4.244380</td>\n",
       "      <td>Correct</td>\n",
       "      <td>100.0</td>\n",
       "      <td>The generated answer is factually accurate, en...</td>\n",
       "      <td>High</td>\n",
       "      <td>High</td>\n",
       "    </tr>\n",
       "    <tr>\n",
       "      <th>1036</th>\n",
       "      <td>How to use SVR SEBIACLEAR Micro-Peel - Salycil...</td>\n",
       "      <td>Morning and evening, apply with a cotton pad t...</td>\n",
       "      <td>To use the SVR SEBIACLEAR Micro-Peel, apply it...</td>\n",
       "      <td>3.678840</td>\n",
       "      <td>Correct</td>\n",
       "      <td>100.0</td>\n",
       "      <td>The generated answer accurately mirrors the in...</td>\n",
       "      <td>High</td>\n",
       "      <td>High</td>\n",
       "    </tr>\n",
       "  </tbody>\n",
       "</table>\n",
       "<p>1037 rows × 9 columns</p>\n",
       "</div>"
      ],
      "text/plain": [
       "                                               Question  \\\n",
       "0     How to use By Terry Cellularose CC Serum 30ml ...   \n",
       "1     How to use La Roche-Posay Effaclar Duo+M Anti-...   \n",
       "2        How to use Omorovicza Ultramoor Mud Mask 50ml?   \n",
       "3     How to use Glow Hub Tinted Sun Silk SPF 30 50m...   \n",
       "4     How to use The INKEY List Salicylic Acid Clean...   \n",
       "...                                                 ...   \n",
       "1032  How to use Eucerin Hyaluron-Filler Day Cream S...   \n",
       "1033  How to use Sarah Chapman Skinesis Professional...   \n",
       "1034  How to use L'Oréal Paris Dermo Expertise Tripl...   \n",
       "1035  How to use Herbivore Orchid Camellia and Jasmi...   \n",
       "1036  How to use SVR SEBIACLEAR Micro-Peel - Salycil...   \n",
       "\n",
       "                                                 Answer  \\\n",
       "0     Apply to the contours of the face with the tip...   \n",
       "1     ☼ AM / ☽ PM\\nWhen to Use: After using Effaclar...   \n",
       "2     Apply a generous amount to face and neck, avoi...   \n",
       "3     ☼ AM\\nWhen to Use: After moisturiser, before m...   \n",
       "4     ☼ AM / ☽ PM\\nWhen to Use: Use as first step in...   \n",
       "...                                                 ...   \n",
       "1032  ☼ AM\\nWhen to Use: After cleansing.\\nApplicati...   \n",
       "1033  Application: Soak mitts in warm water, slot ov...   \n",
       "1034  You only need to apply this triple-action crea...   \n",
       "1035  Apply 3–10 drops to cleansed and toned skin mo...   \n",
       "1036  Morning and evening, apply with a cotton pad t...   \n",
       "\n",
       "                                       Generated_Answer  Response_Time  \\\n",
       "0     To use By Terry Cellularose CC Serum, apply it...      15.708499   \n",
       "1     To use La Roche-Posay Effaclar Duo+M Anti-Blem...       4.328263   \n",
       "2     To use the Omorovicza Ultramoor Mud Mask, appl...       3.861891   \n",
       "3     To use Glow Hub Tinted Sun Silk SPF 30, apply ...       3.163632   \n",
       "4     To use The INKEY List Salicylic Acid Cleanser,...       4.047894   \n",
       "...                                                 ...            ...   \n",
       "1032  To use Eucerin Hyaluron-Filler Day Cream SPF30...       3.885011   \n",
       "1033  To use the Sarah Chapman Skinesis Professional...       3.163924   \n",
       "1034  To use L'Oréal Paris Dermo Expertise Triple Ac...       3.833030   \n",
       "1035  To use the Herbivore Orchid Camellia and Jasmi...       4.244380   \n",
       "1036  To use the SVR SEBIACLEAR Micro-Peel, apply it...       3.678840   \n",
       "\n",
       "      Verdict  Score                                        Explanation  \\\n",
       "0     Correct  100.0  The generated answer aligns fully with the ref...   \n",
       "1     Correct  100.0  The generated answer is fully aligned with the...   \n",
       "2     Correct  100.0  The generated answer is fully accurate and ali...   \n",
       "3     Correct  100.0  The generated answer is fully aligned with the...   \n",
       "4     Correct  100.0  The generated answer aligns with the reference...   \n",
       "...       ...    ...                                                ...   \n",
       "1032  Correct  100.0  The generated answer aligns perfectly with the...   \n",
       "1033  Correct  100.0  The generated answer accurately follows the in...   \n",
       "1034  Correct  100.0  The generated answer aligns perfectly with the...   \n",
       "1035  Correct  100.0  The generated answer is factually accurate, en...   \n",
       "1036  Correct  100.0  The generated answer accurately mirrors the in...   \n",
       "\n",
       "     Accuracy Relevance  \n",
       "0        High      High  \n",
       "1        High      High  \n",
       "2        High      High  \n",
       "3        High      High  \n",
       "4        High      High  \n",
       "...       ...       ...  \n",
       "1032     High      High  \n",
       "1033     High      High  \n",
       "1034     High      High  \n",
       "1035     High      High  \n",
       "1036     High      High  \n",
       "\n",
       "[1037 rows x 9 columns]"
      ]
     },
     "execution_count": 117,
     "metadata": {},
     "output_type": "execute_result"
    }
   ],
   "source": [
    "df[df['Score'].notna()]"
   ]
  },
  {
   "cell_type": "code",
   "execution_count": 118,
   "id": "4f2cee75",
   "metadata": {},
   "outputs": [
    {
     "data": {
      "text/plain": [
       "Score\n",
       "100.0    943\n",
       "75.0      32\n",
       "70.0      29\n",
       "85.0      17\n",
       "95.0       9\n",
       "80.0       4\n",
       "90.0       3\n",
       "Name: count, dtype: int64"
      ]
     },
     "execution_count": 118,
     "metadata": {},
     "output_type": "execute_result"
    }
   ],
   "source": [
    "df['Score'].value_counts()"
   ]
  },
  {
   "cell_type": "code",
   "execution_count": 119,
   "id": "33948c93",
   "metadata": {},
   "outputs": [
    {
     "data": {
      "text/plain": [
       "0.9720347155255545"
      ]
     },
     "execution_count": 119,
     "metadata": {},
     "output_type": "execute_result"
    }
   ],
   "source": [
    "len(df[df['Score'] > 70]) / len(df)"
   ]
  },
  {
   "cell_type": "code",
   "execution_count": 115,
   "id": "e2b3a4e4",
   "metadata": {},
   "outputs": [],
   "source": [
    "# df.to_csv(r'result/tdcosmetics/neo4j/products/neo4j_products_how_to_use.csv', index=False)"
   ]
  },
  {
   "cell_type": "markdown",
   "id": "e1c9d6e5",
   "metadata": {},
   "source": [
    "# Price"
   ]
  },
  {
   "cell_type": "code",
   "execution_count": 147,
   "id": "14b27d19",
   "metadata": {},
   "outputs": [],
   "source": [
    "import pandas as pd\n",
    "\n",
    "df1 = pd.read_csv(r'/home/jasmine/Documents/Study/DATN/code/qa-cosmetics-model/evaluate/result/tdcosmetics/final/neo4j_products_price.csv')"
   ]
  },
  {
   "cell_type": "code",
   "execution_count": 148,
   "id": "2f96874d",
   "metadata": {},
   "outputs": [
    {
     "data": {
      "text/plain": [
       "Score\n",
       "100.0    3223\n",
       "70.0       28\n",
       "0.0        25\n",
       "75.0       11\n",
       "85.0        6\n",
       "20.0        2\n",
       "80.0        2\n",
       "Name: count, dtype: int64"
      ]
     },
     "execution_count": 148,
     "metadata": {},
     "output_type": "execute_result"
    }
   ],
   "source": [
    "df['Score'].value_counts()"
   ]
  },
  {
   "cell_type": "code",
   "execution_count": 149,
   "id": "1e4e88d0",
   "metadata": {},
   "outputs": [
    {
     "data": {
      "text/plain": [
       "0.9833181680315438"
      ]
     },
     "execution_count": 149,
     "metadata": {},
     "output_type": "execute_result"
    }
   ],
   "source": [
    "len(df[df['Score'] > 70]) / len(df)"
   ]
  },
  {
   "cell_type": "code",
   "execution_count": 143,
   "id": "f99db9f4",
   "metadata": {},
   "outputs": [],
   "source": [
    "df.to_csv(r'result/tdcosmetics/neo4j/products/neo4j_products_price.csv', index=False)"
   ]
  },
  {
   "cell_type": "markdown",
   "id": "30130c63",
   "metadata": {},
   "source": [
    "# Ingredient Data"
   ]
  },
  {
   "cell_type": "markdown",
   "id": "ae0fe06a",
   "metadata": {},
   "source": [
    "## Harmful"
   ]
  },
  {
   "cell_type": "code",
   "execution_count": 154,
   "id": "8d509888",
   "metadata": {},
   "outputs": [],
   "source": [
    "df = pd.read_csv(r'result/tdcosmetics/neo4j/product_triplets/neo4j_products_harmful_ingredients.csv')\n",
    "df = df.drop_duplicates(subset=['Question', 'Answer'], keep='first')"
   ]
  },
  {
   "cell_type": "code",
   "execution_count": 155,
   "id": "5ae1180a",
   "metadata": {},
   "outputs": [
    {
     "data": {
      "text/plain": [
       "Score\n",
       "100.0    258\n",
       "70.0      29\n",
       "85.0       6\n",
       "80.0       5\n",
       "60.0       3\n",
       "20.0       1\n",
       "40.0       1\n",
       "Name: count, dtype: int64"
      ]
     },
     "execution_count": 155,
     "metadata": {},
     "output_type": "execute_result"
    }
   ],
   "source": [
    "df['Score'].value_counts()"
   ]
  },
  {
   "cell_type": "code",
   "execution_count": 156,
   "id": "04246add",
   "metadata": {},
   "outputs": [
    {
     "data": {
      "text/plain": [
       "0.9834983498349835"
      ]
     },
     "execution_count": 156,
     "metadata": {},
     "output_type": "execute_result"
    }
   ],
   "source": [
    "len(df[df['Score'] >= 70]) / len(df)"
   ]
  },
  {
   "cell_type": "code",
   "execution_count": 64,
   "id": "3163554c",
   "metadata": {},
   "outputs": [],
   "source": [
    "df.to_csv(r'result/tdcosmetics/neo4j/product_triplets/products_harmful_ingredients.csv', index=False)"
   ]
  },
  {
   "cell_type": "markdown",
   "id": "327f2cc6",
   "metadata": {},
   "source": [
    "## Positive"
   ]
  },
  {
   "cell_type": "code",
   "execution_count": 157,
   "id": "15ff79a4",
   "metadata": {},
   "outputs": [
    {
     "data": {
      "text/plain": [
       "0.9003792298716453"
      ]
     },
     "execution_count": 157,
     "metadata": {},
     "output_type": "execute_result"
    }
   ],
   "source": [
    "df = pd.read_csv(r'result/tdcosmetics/neo4j/product_triplets/neo4j_products_positive_ingredients.csv')\n",
    "len(df[df['Score'] >= 70]) / len(df)"
   ]
  },
  {
   "cell_type": "code",
   "execution_count": 158,
   "id": "f6a2d8dd",
   "metadata": {},
   "outputs": [
    {
     "data": {
      "text/html": [
       "<div>\n",
       "<style scoped>\n",
       "    .dataframe tbody tr th:only-of-type {\n",
       "        vertical-align: middle;\n",
       "    }\n",
       "\n",
       "    .dataframe tbody tr th {\n",
       "        vertical-align: top;\n",
       "    }\n",
       "\n",
       "    .dataframe thead th {\n",
       "        text-align: right;\n",
       "    }\n",
       "</style>\n",
       "<table border=\"1\" class=\"dataframe\">\n",
       "  <thead>\n",
       "    <tr style=\"text-align: right;\">\n",
       "      <th></th>\n",
       "      <th>Question</th>\n",
       "      <th>Answer</th>\n",
       "      <th>Generated_Answer</th>\n",
       "      <th>Response_Time</th>\n",
       "      <th>Verdict</th>\n",
       "      <th>Score</th>\n",
       "      <th>Explanation</th>\n",
       "      <th>Accuracy</th>\n",
       "      <th>Relevance</th>\n",
       "    </tr>\n",
       "  </thead>\n",
       "  <tbody>\n",
       "    <tr>\n",
       "      <th>0</th>\n",
       "      <td>What are the positive ingredients in La Roche-...</td>\n",
       "      <td>Glycerin, Glycerin, Pentylene Glycol, Citric A...</td>\n",
       "      <td>The La Roche-Posay Effaclar Duo+M Anti-Blemish...</td>\n",
       "      <td>14.358537</td>\n",
       "      <td>Partially Correct</td>\n",
       "      <td>70.0</td>\n",
       "      <td>The generated answer lists ingredients found i...</td>\n",
       "      <td>Medium</td>\n",
       "      <td>High</td>\n",
       "    </tr>\n",
       "    <tr>\n",
       "      <th>3</th>\n",
       "      <td>What are the positive ingredients in Omorovicz...</td>\n",
       "      <td>Glycerin (Moisturising: Hydrates the skin; Sof...</td>\n",
       "      <td>The Omorovicza Ultramoor Mud Mask 50ml contain...</td>\n",
       "      <td>5.901982</td>\n",
       "      <td>Partially Correct</td>\n",
       "      <td>70.0</td>\n",
       "      <td>The generated answer provides a list of ingred...</td>\n",
       "      <td>Medium</td>\n",
       "      <td>Medium</td>\n",
       "    </tr>\n",
       "    <tr>\n",
       "      <th>12</th>\n",
       "      <td>What are the positive ingredients in bareMiner...</td>\n",
       "      <td>Glycerin, Glycerin, Sodium Benzoate, Phenoxyet...</td>\n",
       "      <td>The bareMinerals Pure Plush Cleansing Foam con...</td>\n",
       "      <td>4.704140</td>\n",
       "      <td>Partially Correct</td>\n",
       "      <td>70.0</td>\n",
       "      <td>The generated answer lists ingredients from th...</td>\n",
       "      <td>Medium</td>\n",
       "      <td>Medium</td>\n",
       "    </tr>\n",
       "    <tr>\n",
       "      <th>19</th>\n",
       "      <td>What are the positive ingredients in Pai Skinc...</td>\n",
       "      <td>Limonene* (Antiseptic: Kills bacteria) \\n</td>\n",
       "      <td>The Pai Skincare Light Work Rosehip Cleansing ...</td>\n",
       "      <td>5.598597</td>\n",
       "      <td>Partially Correct</td>\n",
       "      <td>70.0</td>\n",
       "      <td>The generated answer correctly identifies Limo...</td>\n",
       "      <td>Medium</td>\n",
       "      <td>High</td>\n",
       "    </tr>\n",
       "    <tr>\n",
       "      <th>21</th>\n",
       "      <td>What are the positive ingredients in Kiehl's U...</td>\n",
       "      <td>Glycerin, Glycerin, Carbomer, Citric Acid, Cit...</td>\n",
       "      <td>The Kiehl's Ultra Facial Masque 100g contains ...</td>\n",
       "      <td>4.774029</td>\n",
       "      <td>Partially Correct</td>\n",
       "      <td>70.0</td>\n",
       "      <td>The generated answer lists ingredients from th...</td>\n",
       "      <td>Medium</td>\n",
       "      <td>High</td>\n",
       "    </tr>\n",
       "    <tr>\n",
       "      <th>...</th>\n",
       "      <td>...</td>\n",
       "      <td>...</td>\n",
       "      <td>...</td>\n",
       "      <td>...</td>\n",
       "      <td>...</td>\n",
       "      <td>...</td>\n",
       "      <td>...</td>\n",
       "      <td>...</td>\n",
       "      <td>...</td>\n",
       "    </tr>\n",
       "    <tr>\n",
       "      <th>6805</th>\n",
       "      <td>What are the positive ingredients in Bobbi Bro...</td>\n",
       "      <td>Glycerin (Moisturising: Hydrates the skin; Sof...</td>\n",
       "      <td>The Bobbi Brown Vitamin Enriched Starter Set c...</td>\n",
       "      <td>7.400430</td>\n",
       "      <td>Partially Correct</td>\n",
       "      <td>70.0</td>\n",
       "      <td>The generated answer is mostly correct in iden...</td>\n",
       "      <td>Medium</td>\n",
       "      <td>High</td>\n",
       "    </tr>\n",
       "    <tr>\n",
       "      <th>6826</th>\n",
       "      <td>What are the positive ingredients in FaceGym A...</td>\n",
       "      <td>Glycerin, Glycerin, Pentylene Glycol, Sodium H...</td>\n",
       "      <td>Here are the ingredients in FaceGym Active Col...</td>\n",
       "      <td>4.692473</td>\n",
       "      <td>Partially Correct</td>\n",
       "      <td>70.0</td>\n",
       "      <td>The generated answer lists ingredients from th...</td>\n",
       "      <td>Medium</td>\n",
       "      <td>Medium</td>\n",
       "    </tr>\n",
       "    <tr>\n",
       "      <th>6845</th>\n",
       "      <td>What are the positive ingredients in Perricone...</td>\n",
       "      <td>Glycerin (Moisturising: Hydrates the skin; Sof...</td>\n",
       "      <td>The Perricone MD Vitamin C Ester CCC + Ferulic...</td>\n",
       "      <td>8.068485</td>\n",
       "      <td>Partially Correct</td>\n",
       "      <td>70.0</td>\n",
       "      <td>The generated answer is mostly correct, as it ...</td>\n",
       "      <td>Medium</td>\n",
       "      <td>High</td>\n",
       "    </tr>\n",
       "    <tr>\n",
       "      <th>6849</th>\n",
       "      <td>What are the positive ingredients in Caudalie ...</td>\n",
       "      <td>Glycerin (Moisturising: Hydrates the skin; Sof...</td>\n",
       "      <td>The Caudalie Premier Cru The Rich Cream Refill...</td>\n",
       "      <td>6.566693</td>\n",
       "      <td>Partially Correct</td>\n",
       "      <td>70.0</td>\n",
       "      <td>The generated answer is partially correct beca...</td>\n",
       "      <td>Medium</td>\n",
       "      <td>High</td>\n",
       "    </tr>\n",
       "    <tr>\n",
       "      <th>6851</th>\n",
       "      <td>What are the positive ingredients in Neutrogen...</td>\n",
       "      <td>Glycerin (Moisturising: Hydrates the skin; Sof...</td>\n",
       "      <td>The Neutrogena Hydrate and Protect Bundle cont...</td>\n",
       "      <td>4.774376</td>\n",
       "      <td>Partially Correct</td>\n",
       "      <td>70.0</td>\n",
       "      <td>The generated answer mentions Hyaluronic Acid ...</td>\n",
       "      <td>Medium</td>\n",
       "      <td>Medium</td>\n",
       "    </tr>\n",
       "  </tbody>\n",
       "</table>\n",
       "<p>981 rows × 9 columns</p>\n",
       "</div>"
      ],
      "text/plain": [
       "                                               Question  \\\n",
       "0     What are the positive ingredients in La Roche-...   \n",
       "3     What are the positive ingredients in Omorovicz...   \n",
       "12    What are the positive ingredients in bareMiner...   \n",
       "19    What are the positive ingredients in Pai Skinc...   \n",
       "21    What are the positive ingredients in Kiehl's U...   \n",
       "...                                                 ...   \n",
       "6805  What are the positive ingredients in Bobbi Bro...   \n",
       "6826  What are the positive ingredients in FaceGym A...   \n",
       "6845  What are the positive ingredients in Perricone...   \n",
       "6849  What are the positive ingredients in Caudalie ...   \n",
       "6851  What are the positive ingredients in Neutrogen...   \n",
       "\n",
       "                                                 Answer  \\\n",
       "0     Glycerin, Glycerin, Pentylene Glycol, Citric A...   \n",
       "3     Glycerin (Moisturising: Hydrates the skin; Sof...   \n",
       "12    Glycerin, Glycerin, Sodium Benzoate, Phenoxyet...   \n",
       "19            Limonene* (Antiseptic: Kills bacteria) \\n   \n",
       "21    Glycerin, Glycerin, Carbomer, Citric Acid, Cit...   \n",
       "...                                                 ...   \n",
       "6805  Glycerin (Moisturising: Hydrates the skin; Sof...   \n",
       "6826  Glycerin, Glycerin, Pentylene Glycol, Sodium H...   \n",
       "6845  Glycerin (Moisturising: Hydrates the skin; Sof...   \n",
       "6849  Glycerin (Moisturising: Hydrates the skin; Sof...   \n",
       "6851  Glycerin (Moisturising: Hydrates the skin; Sof...   \n",
       "\n",
       "                                       Generated_Answer  Response_Time  \\\n",
       "0     The La Roche-Posay Effaclar Duo+M Anti-Blemish...      14.358537   \n",
       "3     The Omorovicza Ultramoor Mud Mask 50ml contain...       5.901982   \n",
       "12    The bareMinerals Pure Plush Cleansing Foam con...       4.704140   \n",
       "19    The Pai Skincare Light Work Rosehip Cleansing ...       5.598597   \n",
       "21    The Kiehl's Ultra Facial Masque 100g contains ...       4.774029   \n",
       "...                                                 ...            ...   \n",
       "6805  The Bobbi Brown Vitamin Enriched Starter Set c...       7.400430   \n",
       "6826  Here are the ingredients in FaceGym Active Col...       4.692473   \n",
       "6845  The Perricone MD Vitamin C Ester CCC + Ferulic...       8.068485   \n",
       "6849  The Caudalie Premier Cru The Rich Cream Refill...       6.566693   \n",
       "6851  The Neutrogena Hydrate and Protect Bundle cont...       4.774376   \n",
       "\n",
       "                Verdict  Score  \\\n",
       "0     Partially Correct   70.0   \n",
       "3     Partially Correct   70.0   \n",
       "12    Partially Correct   70.0   \n",
       "19    Partially Correct   70.0   \n",
       "21    Partially Correct   70.0   \n",
       "...                 ...    ...   \n",
       "6805  Partially Correct   70.0   \n",
       "6826  Partially Correct   70.0   \n",
       "6845  Partially Correct   70.0   \n",
       "6849  Partially Correct   70.0   \n",
       "6851  Partially Correct   70.0   \n",
       "\n",
       "                                            Explanation Accuracy Relevance  \n",
       "0     The generated answer lists ingredients found i...   Medium      High  \n",
       "3     The generated answer provides a list of ingred...   Medium    Medium  \n",
       "12    The generated answer lists ingredients from th...   Medium    Medium  \n",
       "19    The generated answer correctly identifies Limo...   Medium      High  \n",
       "21    The generated answer lists ingredients from th...   Medium      High  \n",
       "...                                                 ...      ...       ...  \n",
       "6805  The generated answer is mostly correct in iden...   Medium      High  \n",
       "6826  The generated answer lists ingredients from th...   Medium    Medium  \n",
       "6845  The generated answer is mostly correct, as it ...   Medium      High  \n",
       "6849  The generated answer is partially correct beca...   Medium      High  \n",
       "6851  The generated answer mentions Hyaluronic Acid ...   Medium    Medium  \n",
       "\n",
       "[981 rows x 9 columns]"
      ]
     },
     "execution_count": 158,
     "metadata": {},
     "output_type": "execute_result"
    }
   ],
   "source": [
    "df[df['Score'] == 70]"
   ]
  },
  {
   "cell_type": "code",
   "execution_count": 58,
   "id": "0e9453de",
   "metadata": {},
   "outputs": [
    {
     "name": "stdout",
     "output_type": "stream",
     "text": [
      "Question: What are the positive ingredients in La Roche-Posay Effaclar Duo+M Anti-Blemish Corrective Gel Moisturiser for Oily, Blemish-Prone Skin 40ml?\n",
      "Correct Answer: Glycerin, Glycerin, Pentylene Glycol, Citric Acid, Citric Acid, Caprylyl Glycol, Propanediol, Dimethicone, Isohexadecane, Niacinamide, Niacinamide, Xanthan Gum, Xanthan Gum, Potassium Cetyl Phosphate, Myristyl Myristate, Glyceryl Stearate Se, Salicylic Acid, Salicylic Acid, Sorbitan Oleate, Zinc PCA, Zinc PCA, Zinc PCA, Isocetyl Stearate \n",
      "\n",
      "Generated Answer: The La Roche-Posay Effaclar Duo+M Anti-Blemish Corrective Gel Moisturiser contains several ingredients with positive effects:\n",
      "\n",
      "*   **Glycerin, Pentylene Glycol, Propanediol, Zinc PCA, Xanthan Gum:** These hydrates the skin.\n",
      "*   **Dimethicone, Isohexadecane, Potassium Cetyl Phosphate, Myristyl Myristate, Glyceryl Stearate Se, Sorbitan Oleate, Isocetyl Stearate:** These improves skin texture.\n",
      "*   **Citric Acid, Niacinamide, Zinc PCA, Carnosine, Tocopherol, Disodium EDTA:** These prevents aging.\n",
      "*   **Citric Acid, Niacinamide:** These improves skin tone.\n",
      "*   **Caprylyl Glycol, Xanthan Gum, Salicylic Acid, Zinc PCA:** These kills bacteria.\n",
      "*   **Salicylic Acid:** Treats and prevents acne. \n",
      "\n",
      "Score: 70.0\n",
      "Accuracy: Medium\n",
      "Relevance: High\n",
      "Explanation: The generated answer lists ingredients found in the reference answer, which is good. However, it makes claims about the ingredients' effects (e.g., hydration, texture improvement, anti-aging, etc.) that are not explicitly stated or supported by the reference. While some of these claims might be generally true about these ingredients, the question specifically asks for ingredients present in the product, not their general benefits. Therefore, while the presence of the ingredients is accurate, the added claims about their effects introduce potential inaccuracies and go beyond the scope of the reference.\n"
     ]
    }
   ],
   "source": [
    "print_info(0, df)"
   ]
  },
  {
   "cell_type": "markdown",
   "id": "d0a95d3e",
   "metadata": {},
   "source": [
    "## Notable"
   ]
  },
  {
   "cell_type": "code",
   "execution_count": 160,
   "id": "4979f40a",
   "metadata": {},
   "outputs": [],
   "source": [
    "import pandas as pd\n",
    "df = pd.read_csv(r'/home/jasmine/Documents/Study/DATN/code/qa-cosmetics-model/evaluate/result/tdcosmetics/neo4j/product_triplets/neo4j_products_notable_ingredients.csv')\n",
    "df = df.drop_duplicates(subset=['Question', 'Answer'], keep='first')"
   ]
  },
  {
   "cell_type": "code",
   "execution_count": 161,
   "id": "46ab28b1",
   "metadata": {},
   "outputs": [],
   "source": [
    "df = df[df['Score'].notna()]"
   ]
  },
  {
   "cell_type": "code",
   "execution_count": 162,
   "id": "601ef385",
   "metadata": {},
   "outputs": [
    {
     "data": {
      "text/plain": [
       "Score\n",
       "100.0    2319\n",
       "70.0      314\n",
       "60.0       32\n",
       "50.0       28\n",
       "80.0       23\n",
       "75.0       18\n",
       "20.0       16\n",
       "0.0         9\n",
       "10.0        6\n",
       "30.0        2\n",
       "Name: count, dtype: int64"
      ]
     },
     "execution_count": 162,
     "metadata": {},
     "output_type": "execute_result"
    }
   ],
   "source": [
    "df['Score'].value_counts()"
   ]
  },
  {
   "cell_type": "code",
   "execution_count": 163,
   "id": "79551cbe",
   "metadata": {},
   "outputs": [
    {
     "data": {
      "text/plain": [
       "0.966389591615468"
      ]
     },
     "execution_count": 163,
     "metadata": {},
     "output_type": "execute_result"
    }
   ],
   "source": [
    "len(df[df['Score'] >= 70]) / len(df)"
   ]
  },
  {
   "cell_type": "code",
   "execution_count": 79,
   "id": "5a488d87",
   "metadata": {},
   "outputs": [],
   "source": [
    "df.to_csv(r'result/tdcosmetics/neo4j/product_triplets/products_notable_ingredients.csv', index=False)"
   ]
  },
  {
   "cell_type": "markdown",
   "id": "74cf0c0d",
   "metadata": {},
   "source": [
    "# Beauty center forum"
   ]
  },
  {
   "cell_type": "code",
   "execution_count": 54,
   "id": "9687ec34",
   "metadata": {},
   "outputs": [
    {
     "data": {
      "text/plain": [
       "116"
      ]
     },
     "execution_count": 54,
     "metadata": {},
     "output_type": "execute_result"
    }
   ],
   "source": [
    "df = pd.read_csv(r'/home/jasmine/Documents/Study/DATN/code/qa-cosmetics-model/evaluate/result/tdcosmetics/beauty_center/beauty_center.csv')\n",
    "df = df.drop_duplicates(subset=['Question', 'Answer'], keep='first')\n",
    "len(df)"
   ]
  },
  {
   "cell_type": "code",
   "execution_count": 53,
   "id": "1284ba56",
   "metadata": {},
   "outputs": [],
   "source": [
    "# df[df['Score'] == 0]"
   ]
  },
  {
   "cell_type": "code",
   "execution_count": 47,
   "id": "68c153e3",
   "metadata": {},
   "outputs": [
    {
     "data": {
      "text/plain": [
       "Accuracy\n",
       "Medium    24\n",
       "Low       37\n",
       "High      50\n",
       "Name: count, dtype: int64"
      ]
     },
     "execution_count": 47,
     "metadata": {},
     "output_type": "execute_result"
    }
   ],
   "source": [
    "df['Accuracy'].value_counts().sort_values()"
   ]
  },
  {
   "cell_type": "code",
   "execution_count": 48,
   "id": "332b53c6",
   "metadata": {},
   "outputs": [
    {
     "data": {
      "text/plain": [
       "Relevance\n",
       "Medium    19\n",
       "Low       33\n",
       "High      59\n",
       "Name: count, dtype: int64"
      ]
     },
     "execution_count": 48,
     "metadata": {},
     "output_type": "execute_result"
    }
   ],
   "source": [
    "df['Relevance'].value_counts().sort_values()"
   ]
  },
  {
   "cell_type": "code",
   "execution_count": 49,
   "id": "8b33e940",
   "metadata": {},
   "outputs": [
    {
     "data": {
      "text/plain": [
       "116"
      ]
     },
     "execution_count": 49,
     "metadata": {},
     "output_type": "execute_result"
    }
   ],
   "source": [
    "len(df)"
   ]
  },
  {
   "cell_type": "code",
   "execution_count": 55,
   "id": "d194e530",
   "metadata": {},
   "outputs": [
    {
     "data": {
      "text/plain": [
       "0.6120689655172413"
      ]
     },
     "execution_count": 55,
     "metadata": {},
     "output_type": "execute_result"
    }
   ],
   "source": [
    "len(df[df['Score'] >= 70]) / len(df)\n",
    "# len(df_gemini[df_gemini['Score'] > 70])"
   ]
  },
  {
   "cell_type": "code",
   "execution_count": 56,
   "id": "7b49f811",
   "metadata": {},
   "outputs": [],
   "source": [
    "df1 = df"
   ]
  },
  {
   "cell_type": "markdown",
   "id": "ead61645",
   "metadata": {},
   "source": [
    "## Additional questions"
   ]
  },
  {
   "cell_type": "code",
   "execution_count": 19,
   "id": "a16dd042",
   "metadata": {},
   "outputs": [],
   "source": [
    "import pandas as pd"
   ]
  },
  {
   "cell_type": "code",
   "execution_count": 72,
   "id": "58823c28",
   "metadata": {},
   "outputs": [
    {
     "data": {
      "text/plain": [
       "Score\n",
       "30.0      1\n",
       "70.0      6\n",
       "20.0      7\n",
       "0.0      19\n",
       "100.0    94\n",
       "Name: count, dtype: int64"
      ]
     },
     "execution_count": 72,
     "metadata": {},
     "output_type": "execute_result"
    }
   ],
   "source": [
    "df = pd.read_csv(r'/home/jasmine/Documents/Study/DATN/code/qa-cosmetics-model/evaluate/result/tdcosmetics/beauty_center/additional_questions.csv')\n",
    "df = df[df['Score'].notna()]\n",
    "df['Score'].value_counts().sort_values()"
   ]
  },
  {
   "cell_type": "code",
   "execution_count": 73,
   "id": "55e0e099",
   "metadata": {},
   "outputs": [
    {
     "data": {
      "text/plain": [
       "0.7874015748031497"
      ]
     },
     "execution_count": 73,
     "metadata": {},
     "output_type": "execute_result"
    }
   ],
   "source": [
    "len(df[df['Score'] >= 70]) / len(df)"
   ]
  },
  {
   "cell_type": "code",
   "execution_count": 74,
   "id": "06f9cdf3",
   "metadata": {},
   "outputs": [],
   "source": [
    "df2=df"
   ]
  },
  {
   "cell_type": "code",
   "execution_count": 85,
   "id": "6d3fb081",
   "metadata": {},
   "outputs": [],
   "source": [
    "df = pd.concat([df1, df2])"
   ]
  },
  {
   "cell_type": "code",
   "execution_count": 86,
   "id": "245ce919",
   "metadata": {},
   "outputs": [
    {
     "data": {
      "text/plain": [
       "0.7037037037037037"
      ]
     },
     "execution_count": 86,
     "metadata": {},
     "output_type": "execute_result"
    }
   ],
   "source": [
    "len(df[df['Score'] >= 70]) / len(df)"
   ]
  },
  {
   "cell_type": "code",
   "execution_count": 87,
   "id": "ea4ee75f",
   "metadata": {},
   "outputs": [
    {
     "data": {
      "text/html": [
       "<div>\n",
       "<style scoped>\n",
       "    .dataframe tbody tr th:only-of-type {\n",
       "        vertical-align: middle;\n",
       "    }\n",
       "\n",
       "    .dataframe tbody tr th {\n",
       "        vertical-align: top;\n",
       "    }\n",
       "\n",
       "    .dataframe thead th {\n",
       "        text-align: right;\n",
       "    }\n",
       "</style>\n",
       "<table border=\"1\" class=\"dataframe\">\n",
       "  <thead>\n",
       "    <tr style=\"text-align: right;\">\n",
       "      <th></th>\n",
       "      <th>Question</th>\n",
       "      <th>Answer</th>\n",
       "      <th>Generated_Answer</th>\n",
       "      <th>Response_Time</th>\n",
       "      <th>Verdict</th>\n",
       "      <th>Score</th>\n",
       "      <th>Explanation</th>\n",
       "      <th>Accuracy</th>\n",
       "      <th>Relevance</th>\n",
       "    </tr>\n",
       "  </thead>\n",
       "  <tbody>\n",
       "    <tr>\n",
       "      <th>0</th>\n",
       "      <td>What products do I need for a basic and effect...</td>\n",
       "      <td>The products you need for a basic and effectiv...</td>\n",
       "      <td>For a basic and effective skincare routine, yo...</td>\n",
       "      <td>4.525233</td>\n",
       "      <td>Partially Correct</td>\n",
       "      <td>70.0</td>\n",
       "      <td>The generated answer provides a partially corr...</td>\n",
       "      <td>Medium</td>\n",
       "      <td>High</td>\n",
       "    </tr>\n",
       "    <tr>\n",
       "      <th>1</th>\n",
       "      <td>Can I use the ageless body wash and the body c...</td>\n",
       "      <td>No, we do not recommend using the body wash an...</td>\n",
       "      <td>I am sorry, I cannot provide information on th...</td>\n",
       "      <td>4.055220</td>\n",
       "      <td>Incorrect</td>\n",
       "      <td>0.0</td>\n",
       "      <td>The generated answer states that it cannot pro...</td>\n",
       "      <td>Low</td>\n",
       "      <td>Low</td>\n",
       "    </tr>\n",
       "    <tr>\n",
       "      <th>2</th>\n",
       "      <td>Can I use more than one face serum in a routine?</td>\n",
       "      <td>Yes, although it’s important to wait a few min...</td>\n",
       "      <td>Yes, you can use more than one face serum in y...</td>\n",
       "      <td>3.944712</td>\n",
       "      <td>Partially Correct</td>\n",
       "      <td>70.0</td>\n",
       "      <td>The generated answer correctly states that you...</td>\n",
       "      <td>High</td>\n",
       "      <td>Medium</td>\n",
       "    </tr>\n",
       "    <tr>\n",
       "      <th>3</th>\n",
       "      <td>How to use the Cicaplast Baume B5?</td>\n",
       "      <td>The Cicaplast Baume has a creamy rich texture ...</td>\n",
       "      <td>API Error: 500</td>\n",
       "      <td>4.179652</td>\n",
       "      <td>Correct</td>\n",
       "      <td>100.0</td>\n",
       "      <td>The generated answer accurately describes how ...</td>\n",
       "      <td>High</td>\n",
       "      <td>High</td>\n",
       "    </tr>\n",
       "    <tr>\n",
       "      <th>4</th>\n",
       "      <td>Is it ok to pick spots?</td>\n",
       "      <td>No. Doing this can permanently damage your ski...</td>\n",
       "      <td>API Error: 500</td>\n",
       "      <td>NaN</td>\n",
       "      <td>NaN</td>\n",
       "      <td>NaN</td>\n",
       "      <td>NaN</td>\n",
       "      <td>NaN</td>\n",
       "      <td>NaN</td>\n",
       "    </tr>\n",
       "  </tbody>\n",
       "</table>\n",
       "</div>"
      ],
      "text/plain": [
       "                                            Question  \\\n",
       "0  What products do I need for a basic and effect...   \n",
       "1  Can I use the ageless body wash and the body c...   \n",
       "2   Can I use more than one face serum in a routine?   \n",
       "3                 How to use the Cicaplast Baume B5?   \n",
       "4                            Is it ok to pick spots?   \n",
       "\n",
       "                                              Answer  \\\n",
       "0  The products you need for a basic and effectiv...   \n",
       "1  No, we do not recommend using the body wash an...   \n",
       "2  Yes, although it’s important to wait a few min...   \n",
       "3  The Cicaplast Baume has a creamy rich texture ...   \n",
       "4  No. Doing this can permanently damage your ski...   \n",
       "\n",
       "                                    Generated_Answer  Response_Time  \\\n",
       "0  For a basic and effective skincare routine, yo...       4.525233   \n",
       "1  I am sorry, I cannot provide information on th...       4.055220   \n",
       "2  Yes, you can use more than one face serum in y...       3.944712   \n",
       "3                                     API Error: 500       4.179652   \n",
       "4                                     API Error: 500            NaN   \n",
       "\n",
       "             Verdict  Score  \\\n",
       "0  Partially Correct   70.0   \n",
       "1          Incorrect    0.0   \n",
       "2  Partially Correct   70.0   \n",
       "3            Correct  100.0   \n",
       "4                NaN    NaN   \n",
       "\n",
       "                                         Explanation Accuracy Relevance  \n",
       "0  The generated answer provides a partially corr...   Medium      High  \n",
       "1  The generated answer states that it cannot pro...      Low       Low  \n",
       "2  The generated answer correctly states that you...     High    Medium  \n",
       "3  The generated answer accurately describes how ...     High      High  \n",
       "4                                                NaN      NaN       NaN  "
      ]
     },
     "execution_count": 87,
     "metadata": {},
     "output_type": "execute_result"
    }
   ],
   "source": [
    "df_errors = pd.read_csv(r'result/tdcosmetics/beauty_center/beauty_center_not_score.csv')\n",
    "df_errors"
   ]
  },
  {
   "cell_type": "code",
   "execution_count": null,
   "id": "f7e6db1e",
   "metadata": {},
   "outputs": [
    {
     "data": {
      "text/html": [
       "<div>\n",
       "<style scoped>\n",
       "    .dataframe tbody tr th:only-of-type {\n",
       "        vertical-align: middle;\n",
       "    }\n",
       "\n",
       "    .dataframe tbody tr th {\n",
       "        vertical-align: top;\n",
       "    }\n",
       "\n",
       "    .dataframe thead th {\n",
       "        text-align: right;\n",
       "    }\n",
       "</style>\n",
       "<table border=\"1\" class=\"dataframe\">\n",
       "  <thead>\n",
       "    <tr style=\"text-align: right;\">\n",
       "      <th></th>\n",
       "      <th>Question</th>\n",
       "      <th>Answer</th>\n",
       "      <th>Generated_Answer</th>\n",
       "      <th>Response_Time</th>\n",
       "      <th>Verdict</th>\n",
       "      <th>Score</th>\n",
       "      <th>Explanation</th>\n",
       "      <th>Accuracy</th>\n",
       "      <th>Relevance</th>\n",
       "    </tr>\n",
       "  </thead>\n",
       "  <tbody>\n",
       "    <tr>\n",
       "      <th>1</th>\n",
       "      <td>What ingredients should I look for in a moistu...</td>\n",
       "      <td>The ingredients to look for in a moisturizer i...</td>\n",
       "      <td>When choosing a moisturizer, prioritize ingred...</td>\n",
       "      <td>6.399998</td>\n",
       "      <td>Partially Correct</td>\n",
       "      <td>70.0</td>\n",
       "      <td>The generated answer provides a list of ingred...</td>\n",
       "      <td>Medium</td>\n",
       "      <td>Medium</td>\n",
       "    </tr>\n",
       "    <tr>\n",
       "      <th>2</th>\n",
       "      <td>What’s the difference between AHA and BHA?</td>\n",
       "      <td>AHAs and BHAs are both chemical exfoliants, bu...</td>\n",
       "      <td>AHAs (Alpha Hydroxy Acids) and BHAs (Beta Hydr...</td>\n",
       "      <td>4.870630</td>\n",
       "      <td>Partially Correct</td>\n",
       "      <td>60.0</td>\n",
       "      <td>The answer is partially correct because it ide...</td>\n",
       "      <td>Medium</td>\n",
       "      <td>High</td>\n",
       "    </tr>\n",
       "    <tr>\n",
       "      <th>3</th>\n",
       "      <td>What precautions should I take when using AHA ...</td>\n",
       "      <td>When using AHA or BHA, don’t apply them to ope...</td>\n",
       "      <td>When using AHA or BHA products, it's crucial t...</td>\n",
       "      <td>4.802369</td>\n",
       "      <td>Correct</td>\n",
       "      <td>100.0</td>\n",
       "      <td>The generated answer accurately reflects the p...</td>\n",
       "      <td>High</td>\n",
       "      <td>High</td>\n",
       "    </tr>\n",
       "    <tr>\n",
       "      <th>4</th>\n",
       "      <td>What is the use of toner?</td>\n",
       "      <td>A toner is a great way to hydrate your skin an...</td>\n",
       "      <td>The primary use of a toner is to complete the ...</td>\n",
       "      <td>5.535180</td>\n",
       "      <td>Correct</td>\n",
       "      <td>100.0</td>\n",
       "      <td>The generated answer accurately describes the ...</td>\n",
       "      <td>High</td>\n",
       "      <td>High</td>\n",
       "    </tr>\n",
       "    <tr>\n",
       "      <th>5</th>\n",
       "      <td>Can I skip toner and use moisturizer?</td>\n",
       "      <td>Toners are a key part of a skincare routine, a...</td>\n",
       "      <td>Yes, you can skip toner and go straight to moi...</td>\n",
       "      <td>3.958065</td>\n",
       "      <td>Correct</td>\n",
       "      <td>100.0</td>\n",
       "      <td>The generated answer accurately reflects the r...</td>\n",
       "      <td>High</td>\n",
       "      <td>High</td>\n",
       "    </tr>\n",
       "    <tr>\n",
       "      <th>...</th>\n",
       "      <td>...</td>\n",
       "      <td>...</td>\n",
       "      <td>...</td>\n",
       "      <td>...</td>\n",
       "      <td>...</td>\n",
       "      <td>...</td>\n",
       "      <td>...</td>\n",
       "      <td>...</td>\n",
       "      <td>...</td>\n",
       "    </tr>\n",
       "    <tr>\n",
       "      <th>3</th>\n",
       "      <td>How to use the Cicaplast Baume B5?</td>\n",
       "      <td>The Cicaplast Baume has a creamy rich texture ...</td>\n",
       "      <td>API Error: 500</td>\n",
       "      <td>4.179652</td>\n",
       "      <td>Correct</td>\n",
       "      <td>100.0</td>\n",
       "      <td>The generated answer accurately describes how ...</td>\n",
       "      <td>High</td>\n",
       "      <td>High</td>\n",
       "    </tr>\n",
       "    <tr>\n",
       "      <th>0</th>\n",
       "      <td>What products do I need for a basic and effect...</td>\n",
       "      <td>The products you need for a basic and effectiv...</td>\n",
       "      <td>For a basic and effective skincare routine, yo...</td>\n",
       "      <td>4.525233</td>\n",
       "      <td>Partially Correct</td>\n",
       "      <td>70.0</td>\n",
       "      <td>The generated answer provides a partially corr...</td>\n",
       "      <td>Medium</td>\n",
       "      <td>High</td>\n",
       "    </tr>\n",
       "    <tr>\n",
       "      <th>1</th>\n",
       "      <td>Can I use the ageless body wash and the body c...</td>\n",
       "      <td>No, we do not recommend using the body wash an...</td>\n",
       "      <td>I am sorry, I cannot provide information on th...</td>\n",
       "      <td>4.055220</td>\n",
       "      <td>Incorrect</td>\n",
       "      <td>0.0</td>\n",
       "      <td>The generated answer states that it cannot pro...</td>\n",
       "      <td>Low</td>\n",
       "      <td>Low</td>\n",
       "    </tr>\n",
       "    <tr>\n",
       "      <th>2</th>\n",
       "      <td>Can I use more than one face serum in a routine?</td>\n",
       "      <td>Yes, although it’s important to wait a few min...</td>\n",
       "      <td>Yes, you can use more than one face serum in y...</td>\n",
       "      <td>3.944712</td>\n",
       "      <td>Partially Correct</td>\n",
       "      <td>70.0</td>\n",
       "      <td>The generated answer correctly states that you...</td>\n",
       "      <td>High</td>\n",
       "      <td>Medium</td>\n",
       "    </tr>\n",
       "    <tr>\n",
       "      <th>3</th>\n",
       "      <td>How to use the Cicaplast Baume B5?</td>\n",
       "      <td>The Cicaplast Baume has a creamy rich texture ...</td>\n",
       "      <td>API Error: 500</td>\n",
       "      <td>4.179652</td>\n",
       "      <td>Correct</td>\n",
       "      <td>100.0</td>\n",
       "      <td>The generated answer accurately describes how ...</td>\n",
       "      <td>High</td>\n",
       "      <td>High</td>\n",
       "    </tr>\n",
       "  </tbody>\n",
       "</table>\n",
       "<p>254 rows × 9 columns</p>\n",
       "</div>"
      ],
      "text/plain": [
       "                                             Question  \\\n",
       "1   What ingredients should I look for in a moistu...   \n",
       "2          What’s the difference between AHA and BHA?   \n",
       "3   What precautions should I take when using AHA ...   \n",
       "4                           What is the use of toner?   \n",
       "5               Can I skip toner and use moisturizer?   \n",
       "..                                                ...   \n",
       "3                  How to use the Cicaplast Baume B5?   \n",
       "0   What products do I need for a basic and effect...   \n",
       "1   Can I use the ageless body wash and the body c...   \n",
       "2    Can I use more than one face serum in a routine?   \n",
       "3                  How to use the Cicaplast Baume B5?   \n",
       "\n",
       "                                               Answer  \\\n",
       "1   The ingredients to look for in a moisturizer i...   \n",
       "2   AHAs and BHAs are both chemical exfoliants, bu...   \n",
       "3   When using AHA or BHA, don’t apply them to ope...   \n",
       "4   A toner is a great way to hydrate your skin an...   \n",
       "5   Toners are a key part of a skincare routine, a...   \n",
       "..                                                ...   \n",
       "3   The Cicaplast Baume has a creamy rich texture ...   \n",
       "0   The products you need for a basic and effectiv...   \n",
       "1   No, we do not recommend using the body wash an...   \n",
       "2   Yes, although it’s important to wait a few min...   \n",
       "3   The Cicaplast Baume has a creamy rich texture ...   \n",
       "\n",
       "                                     Generated_Answer  Response_Time  \\\n",
       "1   When choosing a moisturizer, prioritize ingred...       6.399998   \n",
       "2   AHAs (Alpha Hydroxy Acids) and BHAs (Beta Hydr...       4.870630   \n",
       "3   When using AHA or BHA products, it's crucial t...       4.802369   \n",
       "4   The primary use of a toner is to complete the ...       5.535180   \n",
       "5   Yes, you can skip toner and go straight to moi...       3.958065   \n",
       "..                                                ...            ...   \n",
       "3                                      API Error: 500       4.179652   \n",
       "0   For a basic and effective skincare routine, yo...       4.525233   \n",
       "1   I am sorry, I cannot provide information on th...       4.055220   \n",
       "2   Yes, you can use more than one face serum in y...       3.944712   \n",
       "3                                      API Error: 500       4.179652   \n",
       "\n",
       "              Verdict  Score  \\\n",
       "1   Partially Correct   70.0   \n",
       "2   Partially Correct   60.0   \n",
       "3             Correct  100.0   \n",
       "4             Correct  100.0   \n",
       "5             Correct  100.0   \n",
       "..                ...    ...   \n",
       "3             Correct  100.0   \n",
       "0   Partially Correct   70.0   \n",
       "1           Incorrect    0.0   \n",
       "2   Partially Correct   70.0   \n",
       "3             Correct  100.0   \n",
       "\n",
       "                                          Explanation Accuracy Relevance  \n",
       "1   The generated answer provides a list of ingred...   Medium    Medium  \n",
       "2   The answer is partially correct because it ide...   Medium      High  \n",
       "3   The generated answer accurately reflects the p...     High      High  \n",
       "4   The generated answer accurately describes the ...     High      High  \n",
       "5   The generated answer accurately reflects the r...     High      High  \n",
       "..                                                ...      ...       ...  \n",
       "3   The generated answer accurately describes how ...     High      High  \n",
       "0   The generated answer provides a partially corr...   Medium      High  \n",
       "1   The generated answer states that it cannot pro...      Low       Low  \n",
       "2   The generated answer correctly states that you...     High    Medium  \n",
       "3   The generated answer accurately describes how ...     High      High  \n",
       "\n",
       "[254 rows x 9 columns]"
      ]
     },
     "execution_count": 91,
     "metadata": {},
     "output_type": "execute_result"
    }
   ],
   "source": [
    "df = pd.concat([df, df_errors])\n",
    "df = df[df['Score'].notna()]\n",
    "df"
   ]
  },
  {
   "cell_type": "code",
   "execution_count": 94,
   "id": "afd48a3c",
   "metadata": {},
   "outputs": [
    {
     "data": {
      "text/plain": [
       "0.7204724409448819"
      ]
     },
     "execution_count": 94,
     "metadata": {},
     "output_type": "execute_result"
    }
   ],
   "source": [
    "len(df[df['Score'] >= 70]) / len(df)"
   ]
  },
  {
   "cell_type": "code",
   "execution_count": null,
   "id": "e6fec306",
   "metadata": {},
   "outputs": [],
   "source": []
  }
 ],
 "metadata": {
  "kernelspec": {
   "display_name": "venv",
   "language": "python",
   "name": "python3"
  },
  "language_info": {
   "codemirror_mode": {
    "name": "ipython",
    "version": 3
   },
   "file_extension": ".py",
   "mimetype": "text/x-python",
   "name": "python",
   "nbconvert_exporter": "python",
   "pygments_lexer": "ipython3",
   "version": "3.12.3"
  }
 },
 "nbformat": 4,
 "nbformat_minor": 5
}
