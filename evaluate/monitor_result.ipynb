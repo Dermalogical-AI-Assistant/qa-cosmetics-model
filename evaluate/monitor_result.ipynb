{
 "cells": [
  {
   "cell_type": "markdown",
   "id": "4b22881d",
   "metadata": {},
   "source": [
    "# Skincare Concern"
   ]
  },
  {
   "cell_type": "code",
   "execution_count": 1,
   "id": "d47eaa7f",
   "metadata": {},
   "outputs": [],
   "source": [
    "import pandas as pd \n",
    "df_skincare_concern = pd.read_csv('result/tdcosmetics/neo4j/products/neo4j_products_skincare_concern.csv')\n",
    "df_skincare_concern_backup = pd.read_csv('result/tdcosmetics/neo4j/products/neo4j_products_skincare_concern_backup.csv')"
   ]
  },
  {
   "cell_type": "code",
   "execution_count": 136,
   "id": "50c5c8ff",
   "metadata": {},
   "outputs": [
    {
     "data": {
      "text/plain": [
       "4007"
      ]
     },
     "execution_count": 136,
     "metadata": {},
     "output_type": "execute_result"
    }
   ],
   "source": [
    "df_skincare_concern = df_skincare_concern[3747:]\n",
    "df_skincare_concern_backup = df_skincare_concern_backup[:3747]\n",
    "\n",
    "df_skincare_concern_all = pd.concat([df_skincare_concern_backup, df_skincare_concern])\n",
    "len(df_skincare_concern_all)"
   ]
  },
  {
   "cell_type": "code",
   "execution_count": 137,
   "id": "1b17fab0",
   "metadata": {},
   "outputs": [
    {
     "data": {
      "text/plain": [
       "3990"
      ]
     },
     "execution_count": 137,
     "metadata": {},
     "output_type": "execute_result"
    }
   ],
   "source": [
    "len(df_skincare_concern_all[df_skincare_concern_all['Score'].notna()])"
   ]
  },
  {
   "cell_type": "code",
   "execution_count": 138,
   "id": "1357df74",
   "metadata": {},
   "outputs": [
    {
     "data": {
      "text/html": [
       "<div>\n",
       "<style scoped>\n",
       "    .dataframe tbody tr th:only-of-type {\n",
       "        vertical-align: middle;\n",
       "    }\n",
       "\n",
       "    .dataframe tbody tr th {\n",
       "        vertical-align: top;\n",
       "    }\n",
       "\n",
       "    .dataframe thead th {\n",
       "        text-align: right;\n",
       "    }\n",
       "</style>\n",
       "<table border=\"1\" class=\"dataframe\">\n",
       "  <thead>\n",
       "    <tr style=\"text-align: right;\">\n",
       "      <th></th>\n",
       "      <th>Question</th>\n",
       "      <th>Answer</th>\n",
       "      <th>Generated_Answer</th>\n",
       "      <th>Response_Time</th>\n",
       "      <th>Verdict</th>\n",
       "      <th>Score</th>\n",
       "      <th>Explanation</th>\n",
       "      <th>Accuracy</th>\n",
       "      <th>Relevance</th>\n",
       "    </tr>\n",
       "  </thead>\n",
       "  <tbody>\n",
       "    <tr>\n",
       "      <th>0</th>\n",
       "      <td>What skincare concern does By Terry Cellularos...</td>\n",
       "      <td>['acne-blemishes', 'normal-combination', 'dry-...</td>\n",
       "      <td>The By Terry Cellularose CC Serum addresses se...</td>\n",
       "      <td>7.746953</td>\n",
       "      <td>Correct</td>\n",
       "      <td>100.0</td>\n",
       "      <td>The generated answer aligns perfectly with the...</td>\n",
       "      <td>High</td>\n",
       "      <td>High</td>\n",
       "    </tr>\n",
       "    <tr>\n",
       "      <th>1</th>\n",
       "      <td>What skincare concern does La Roche-Posay Effa...</td>\n",
       "      <td>['acne-blemishes']</td>\n",
       "      <td>La Roche-Posay Effaclar Duo+M Anti-Blemish Cor...</td>\n",
       "      <td>3.009873</td>\n",
       "      <td>Correct</td>\n",
       "      <td>100.0</td>\n",
       "      <td>The generated answer accurately aligns with th...</td>\n",
       "      <td>High</td>\n",
       "      <td>High</td>\n",
       "    </tr>\n",
       "    <tr>\n",
       "      <th>2</th>\n",
       "      <td>What skincare concern does Omorovicza Ultramoo...</td>\n",
       "      <td>['sensitive']</td>\n",
       "      <td>The Omorovicza Ultramoor Mud Mask 50ml is desi...</td>\n",
       "      <td>3.068830</td>\n",
       "      <td>Correct</td>\n",
       "      <td>100.0</td>\n",
       "      <td>The generated answer precisely aligns with the...</td>\n",
       "      <td>High</td>\n",
       "      <td>High</td>\n",
       "    </tr>\n",
       "    <tr>\n",
       "      <th>3</th>\n",
       "      <td>What skincare concern does Glow Hub Tinted Sun...</td>\n",
       "      <td>['dull-skin', 'uneven-skintone', 'sensitive']</td>\n",
       "      <td>Glow Hub Tinted Sun Silk SPF 30 50ml addresses...</td>\n",
       "      <td>3.537057</td>\n",
       "      <td>Correct</td>\n",
       "      <td>100.0</td>\n",
       "      <td>The generated answer is accurate and aligns pe...</td>\n",
       "      <td>High</td>\n",
       "      <td>High</td>\n",
       "    </tr>\n",
       "    <tr>\n",
       "      <th>4</th>\n",
       "      <td>What skincare concern does The INKEY List Sali...</td>\n",
       "      <td>['acne-blemishes']</td>\n",
       "      <td>The INKEY List Salicylic Acid Cleanser 60ml is...</td>\n",
       "      <td>3.124342</td>\n",
       "      <td>Correct</td>\n",
       "      <td>100.0</td>\n",
       "      <td>The generated answer accurately aligns with th...</td>\n",
       "      <td>High</td>\n",
       "      <td>High</td>\n",
       "    </tr>\n",
       "    <tr>\n",
       "      <th>...</th>\n",
       "      <td>...</td>\n",
       "      <td>...</td>\n",
       "      <td>...</td>\n",
       "      <td>...</td>\n",
       "      <td>...</td>\n",
       "      <td>...</td>\n",
       "      <td>...</td>\n",
       "      <td>...</td>\n",
       "      <td>...</td>\n",
       "    </tr>\n",
       "    <tr>\n",
       "      <th>4002</th>\n",
       "      <td>What skincare concern does Medik8 Blemish Cont...</td>\n",
       "      <td>['ACNE_BLEMISHES', 'COMBINATION_SKIN', 'OILY_S...</td>\n",
       "      <td>Medik8 Blemish Control Pads (60 Pads) are desi...</td>\n",
       "      <td>5.419982</td>\n",
       "      <td>Correct</td>\n",
       "      <td>100.0</td>\n",
       "      <td>The generated answer accurately aligns with th...</td>\n",
       "      <td>High</td>\n",
       "      <td>High</td>\n",
       "    </tr>\n",
       "    <tr>\n",
       "      <th>4003</th>\n",
       "      <td>What skincare concern does Medik8 Blemish Cont...</td>\n",
       "      <td>['ACNE_BLEMISHES', 'COMBINATION_SKIN', 'OILY_S...</td>\n",
       "      <td>Medik8 Blemish Control Pads (60 Pads) are desi...</td>\n",
       "      <td>6.880619</td>\n",
       "      <td>Correct</td>\n",
       "      <td>100.0</td>\n",
       "      <td>The generated answer accurately aligns with th...</td>\n",
       "      <td>High</td>\n",
       "      <td>High</td>\n",
       "    </tr>\n",
       "    <tr>\n",
       "      <th>4004</th>\n",
       "      <td>What skincare concern does COSRX Master Patch ...</td>\n",
       "      <td>['ACNE_BLEMISHES']</td>\n",
       "      <td>The COSRX Master Patch Intensive (36 Pack) is ...</td>\n",
       "      <td>4.985779</td>\n",
       "      <td>Correct</td>\n",
       "      <td>100.0</td>\n",
       "      <td>The generated answer directly aligns with the ...</td>\n",
       "      <td>High</td>\n",
       "      <td>High</td>\n",
       "    </tr>\n",
       "    <tr>\n",
       "      <th>4005</th>\n",
       "      <td>What skincare concern does Medik8 Blemish Cont...</td>\n",
       "      <td>['ACNE_BLEMISHES', 'COMBINATION_SKIN', 'OILY_S...</td>\n",
       "      <td>Medik8 Blemish Control Pads (60 Pads) primaril...</td>\n",
       "      <td>5.999186</td>\n",
       "      <td>Correct</td>\n",
       "      <td>100.0</td>\n",
       "      <td>The generated answer accurately reflects the r...</td>\n",
       "      <td>High</td>\n",
       "      <td>High</td>\n",
       "    </tr>\n",
       "    <tr>\n",
       "      <th>4006</th>\n",
       "      <td>What skincare concern does COSRX Master Patch ...</td>\n",
       "      <td>['ACNE_BLEMISHES']</td>\n",
       "      <td>The COSRX Master Patch Intensive (36 Pack) is ...</td>\n",
       "      <td>5.740329</td>\n",
       "      <td>Correct</td>\n",
       "      <td>100.0</td>\n",
       "      <td>The generated answer accurately identifies the...</td>\n",
       "      <td>High</td>\n",
       "      <td>High</td>\n",
       "    </tr>\n",
       "  </tbody>\n",
       "</table>\n",
       "<p>3990 rows × 9 columns</p>\n",
       "</div>"
      ],
      "text/plain": [
       "                                               Question  \\\n",
       "0     What skincare concern does By Terry Cellularos...   \n",
       "1     What skincare concern does La Roche-Posay Effa...   \n",
       "2     What skincare concern does Omorovicza Ultramoo...   \n",
       "3     What skincare concern does Glow Hub Tinted Sun...   \n",
       "4     What skincare concern does The INKEY List Sali...   \n",
       "...                                                 ...   \n",
       "4002  What skincare concern does Medik8 Blemish Cont...   \n",
       "4003  What skincare concern does Medik8 Blemish Cont...   \n",
       "4004  What skincare concern does COSRX Master Patch ...   \n",
       "4005  What skincare concern does Medik8 Blemish Cont...   \n",
       "4006  What skincare concern does COSRX Master Patch ...   \n",
       "\n",
       "                                                 Answer  \\\n",
       "0     ['acne-blemishes', 'normal-combination', 'dry-...   \n",
       "1                                    ['acne-blemishes']   \n",
       "2                                         ['sensitive']   \n",
       "3         ['dull-skin', 'uneven-skintone', 'sensitive']   \n",
       "4                                    ['acne-blemishes']   \n",
       "...                                                 ...   \n",
       "4002  ['ACNE_BLEMISHES', 'COMBINATION_SKIN', 'OILY_S...   \n",
       "4003  ['ACNE_BLEMISHES', 'COMBINATION_SKIN', 'OILY_S...   \n",
       "4004                                 ['ACNE_BLEMISHES']   \n",
       "4005  ['ACNE_BLEMISHES', 'COMBINATION_SKIN', 'OILY_S...   \n",
       "4006                                 ['ACNE_BLEMISHES']   \n",
       "\n",
       "                                       Generated_Answer  Response_Time  \\\n",
       "0     The By Terry Cellularose CC Serum addresses se...       7.746953   \n",
       "1     La Roche-Posay Effaclar Duo+M Anti-Blemish Cor...       3.009873   \n",
       "2     The Omorovicza Ultramoor Mud Mask 50ml is desi...       3.068830   \n",
       "3     Glow Hub Tinted Sun Silk SPF 30 50ml addresses...       3.537057   \n",
       "4     The INKEY List Salicylic Acid Cleanser 60ml is...       3.124342   \n",
       "...                                                 ...            ...   \n",
       "4002  Medik8 Blemish Control Pads (60 Pads) are desi...       5.419982   \n",
       "4003  Medik8 Blemish Control Pads (60 Pads) are desi...       6.880619   \n",
       "4004  The COSRX Master Patch Intensive (36 Pack) is ...       4.985779   \n",
       "4005  Medik8 Blemish Control Pads (60 Pads) primaril...       5.999186   \n",
       "4006  The COSRX Master Patch Intensive (36 Pack) is ...       5.740329   \n",
       "\n",
       "      Verdict  Score                                        Explanation  \\\n",
       "0     Correct  100.0  The generated answer aligns perfectly with the...   \n",
       "1     Correct  100.0  The generated answer accurately aligns with th...   \n",
       "2     Correct  100.0  The generated answer precisely aligns with the...   \n",
       "3     Correct  100.0  The generated answer is accurate and aligns pe...   \n",
       "4     Correct  100.0  The generated answer accurately aligns with th...   \n",
       "...       ...    ...                                                ...   \n",
       "4002  Correct  100.0  The generated answer accurately aligns with th...   \n",
       "4003  Correct  100.0  The generated answer accurately aligns with th...   \n",
       "4004  Correct  100.0  The generated answer directly aligns with the ...   \n",
       "4005  Correct  100.0  The generated answer accurately reflects the r...   \n",
       "4006  Correct  100.0  The generated answer accurately identifies the...   \n",
       "\n",
       "     Accuracy Relevance  \n",
       "0        High      High  \n",
       "1        High      High  \n",
       "2        High      High  \n",
       "3        High      High  \n",
       "4        High      High  \n",
       "...       ...       ...  \n",
       "4002     High      High  \n",
       "4003     High      High  \n",
       "4004     High      High  \n",
       "4005     High      High  \n",
       "4006     High      High  \n",
       "\n",
       "[3990 rows x 9 columns]"
      ]
     },
     "execution_count": 138,
     "metadata": {},
     "output_type": "execute_result"
    }
   ],
   "source": [
    "df = df_skincare_concern_all[df_skincare_concern_all['Score'].notna()]\n",
    "df"
   ]
  },
  {
   "cell_type": "code",
   "execution_count": 139,
   "id": "7bc00217",
   "metadata": {},
   "outputs": [
    {
     "data": {
      "text/plain": [
       "Score\n",
       "100.0    3350\n",
       "30.0      120\n",
       "70.0      106\n",
       "0.0       102\n",
       "20.0       86\n",
       "75.0       78\n",
       "40.0       45\n",
       "60.0       40\n",
       "50.0       19\n",
       "25.0       10\n",
       "80.0        9\n",
       "85.0        8\n",
       "65.0        5\n",
       "95.0        5\n",
       "10.0        4\n",
       "15.0        2\n",
       "35.0        1\n",
       "Name: count, dtype: int64"
      ]
     },
     "execution_count": 139,
     "metadata": {},
     "output_type": "execute_result"
    }
   ],
   "source": [
    "df['Score'].value_counts()"
   ]
  },
  {
   "cell_type": "code",
   "execution_count": 140,
   "id": "dbd03148",
   "metadata": {},
   "outputs": [
    {
     "data": {
      "text/plain": [
       "0.8912280701754386"
      ]
     },
     "execution_count": 140,
     "metadata": {},
     "output_type": "execute_result"
    }
   ],
   "source": [
    "len(df[df['Score'] >= 70]) / len(df)"
   ]
  },
  {
   "cell_type": "code",
   "execution_count": 157,
   "id": "04532294",
   "metadata": {},
   "outputs": [
    {
     "data": {
      "text/plain": [
       "434"
      ]
     },
     "execution_count": 157,
     "metadata": {},
     "output_type": "execute_result"
    }
   ],
   "source": [
    "len(df_backup[df_backup['Score'] < 70])"
   ]
  },
  {
   "cell_type": "code",
   "execution_count": 57,
   "id": "823f736a",
   "metadata": {},
   "outputs": [],
   "source": [
    "def print_info(row, df=df):\n",
    "    print(f'Question: {df.loc[row, 'Question']}')\n",
    "    print(f'Correct Answer: {df.loc[row, 'Answer']} \\n')\n",
    "    print(f'Generated Answer: {df.loc[row, 'Generated_Answer']} \\n')\n",
    "    print(f'Score: {df.loc[row, 'Score']}')\n",
    "    print(f'Accuracy: {df.loc[row, 'Accuracy']}')\n",
    "    print(f'Relevance: {df.loc[row, 'Relevance']}')\n",
    "    print(f'Explanation: {df.loc[row, 'Explanation']}')"
   ]
  },
  {
   "cell_type": "code",
   "execution_count": null,
   "id": "7f118601",
   "metadata": {},
   "outputs": [],
   "source": [
    "# df = pd.read_csv(r'/home/jasmine/Documents/Study/DATN/code/qa-cosmetics-model/evaluate/result/tdcosmetics/final/skincare_concern.csv')\n",
    "# df.to_csv(r'/home/jasmine/Documents/Study/DATN/code/qa-cosmetics-model/evaluate/result/tdcosmetics/final/skincare_concern.csv', index=False)\n"
   ]
  },
  {
   "cell_type": "code",
   "execution_count": 142,
   "id": "075102c9",
   "metadata": {},
   "outputs": [
    {
     "name": "stdout",
     "output_type": "stream",
     "text": [
      "Question: What skincare concern does The INKEY List Salicylic Acid Cleanser 60ml address?\n",
      "Correct Answer: ['ACNE_BLEMISHES', 'DULL_SKIN', 'PIGMENTATION', 'BLACKHEADS_PORES'] \n",
      "\n",
      "Generated Answer: The INKEY List Salicylic Acid Cleanser 60ml is designed to address acne and blemishes. \n",
      "\n",
      "Score: 60.0\n",
      "Accuracy: Medium\n",
      "Relevance: High\n",
      "Explanation: The generated answer correctly identifies acne and blemishes as concerns addressed by the product, which align with part of the reference answer. However, it omits other concerns mentioned in the reference—specifically dull skin, pigmentation, and blackheads/pores. While the answer is accurate for the concerns mentioned, it is incomplete, making its alignment with the reference only partial.\n"
     ]
    }
   ],
   "source": [
    "# len(df[~df['Score'].notna()])\n",
    "\n",
    "print_info(4001, df)"
   ]
  },
  {
   "cell_type": "code",
   "execution_count": 151,
   "id": "699075be",
   "metadata": {},
   "outputs": [
    {
     "data": {
      "text/html": [
       "<div>\n",
       "<style scoped>\n",
       "    .dataframe tbody tr th:only-of-type {\n",
       "        vertical-align: middle;\n",
       "    }\n",
       "\n",
       "    .dataframe tbody tr th {\n",
       "        vertical-align: top;\n",
       "    }\n",
       "\n",
       "    .dataframe thead th {\n",
       "        text-align: right;\n",
       "    }\n",
       "</style>\n",
       "<table border=\"1\" class=\"dataframe\">\n",
       "  <thead>\n",
       "    <tr style=\"text-align: right;\">\n",
       "      <th></th>\n",
       "      <th>Unnamed: 0</th>\n",
       "      <th>Question</th>\n",
       "      <th>Answer</th>\n",
       "      <th>Generated_Answer</th>\n",
       "      <th>Response_Time</th>\n",
       "      <th>Verdict</th>\n",
       "      <th>Score</th>\n",
       "      <th>Explanation</th>\n",
       "      <th>Accuracy</th>\n",
       "      <th>Relevance</th>\n",
       "    </tr>\n",
       "  </thead>\n",
       "  <tbody>\n",
       "    <tr>\n",
       "      <th>0</th>\n",
       "      <td>6</td>\n",
       "      <td>What skincare concern does Dermalogica Dynamic...</td>\n",
       "      <td>['anti-ageing', 'dull-skin', 'uneven-skintone'...</td>\n",
       "      <td>Request Error: HTTPConnectionPool(host='127.0....</td>\n",
       "      <td>3.741524</td>\n",
       "      <td>Correct</td>\n",
       "      <td>100.0</td>\n",
       "      <td>The generated answer accurately aligns with th...</td>\n",
       "      <td>High</td>\n",
       "      <td>High</td>\n",
       "    </tr>\n",
       "    <tr>\n",
       "      <th>1</th>\n",
       "      <td>18</td>\n",
       "      <td>What skincare concern does Natura Bissé Stabil...</td>\n",
       "      <td>['oily-skin', 'blocked-pores-dead-skin', 'acne...</td>\n",
       "      <td>The Natura Bissé Stabilizing Cleansing Mask 75...</td>\n",
       "      <td>11.799336</td>\n",
       "      <td>Correct</td>\n",
       "      <td>100.0</td>\n",
       "      <td>The generated answer accurately lists the skin...</td>\n",
       "      <td>High</td>\n",
       "      <td>High</td>\n",
       "    </tr>\n",
       "    <tr>\n",
       "      <th>2</th>\n",
       "      <td>35</td>\n",
       "      <td>What skincare concern does Lanolips 101 Ointme...</td>\n",
       "      <td>['dry-skin']</td>\n",
       "      <td>The Lanolips 101 Ointment Multi-Balm - Coconut...</td>\n",
       "      <td>3.385285</td>\n",
       "      <td>Correct</td>\n",
       "      <td>100.0</td>\n",
       "      <td>The generated answer accurately aligns with th...</td>\n",
       "      <td>High</td>\n",
       "      <td>High</td>\n",
       "    </tr>\n",
       "    <tr>\n",
       "      <th>3</th>\n",
       "      <td>47</td>\n",
       "      <td>What skincare concern does Lancôme Clarifique ...</td>\n",
       "      <td>['dull-skin']</td>\n",
       "      <td>Lancôme Clarifique Day Cream 50ml is designed ...</td>\n",
       "      <td>2.672086</td>\n",
       "      <td>Correct</td>\n",
       "      <td>100.0</td>\n",
       "      <td>The generated answer directly aligns with the ...</td>\n",
       "      <td>High</td>\n",
       "      <td>High</td>\n",
       "    </tr>\n",
       "    <tr>\n",
       "      <th>4</th>\n",
       "      <td>58</td>\n",
       "      <td>What skincare concern does FOREO UFO 3 Device ...</td>\n",
       "      <td>['anti-ageing', 'dull-skin', 'uneven-skintone'...</td>\n",
       "      <td>The FOREO UFO 3 Device - Arctic Blue addresses...</td>\n",
       "      <td>3.333756</td>\n",
       "      <td>Correct</td>\n",
       "      <td>100.0</td>\n",
       "      <td>The generated answer accurately matches the re...</td>\n",
       "      <td>High</td>\n",
       "      <td>High</td>\n",
       "    </tr>\n",
       "    <tr>\n",
       "      <th>...</th>\n",
       "      <td>...</td>\n",
       "      <td>...</td>\n",
       "      <td>...</td>\n",
       "      <td>...</td>\n",
       "      <td>...</td>\n",
       "      <td>...</td>\n",
       "      <td>...</td>\n",
       "      <td>...</td>\n",
       "      <td>...</td>\n",
       "      <td>...</td>\n",
       "    </tr>\n",
       "    <tr>\n",
       "      <th>535</th>\n",
       "      <td>3992</td>\n",
       "      <td>What skincare concern does Caudalie Beauty Eli...</td>\n",
       "      <td>['ACNE_BLEMISHES', 'COMBINATION_SKIN', 'DRY_SK...</td>\n",
       "      <td>Caudalie Beauty Elixir 30ml addresses dull ski...</td>\n",
       "      <td>4.665567</td>\n",
       "      <td>Partially Correct</td>\n",
       "      <td>70.0</td>\n",
       "      <td>The generated answer mentions dull skin, which...</td>\n",
       "      <td>Medium</td>\n",
       "      <td>Medium</td>\n",
       "    </tr>\n",
       "    <tr>\n",
       "      <th>536</th>\n",
       "      <td>3995</td>\n",
       "      <td>What skincare concern does Medik8 Crystal Reti...</td>\n",
       "      <td>['ACNE_BLEMISHES', 'COMBINATION_SKIN', 'DRY_SK...</td>\n",
       "      <td>Medik8 Crystal Retinal 6 addresses the skincar...</td>\n",
       "      <td>4.709436</td>\n",
       "      <td>Incorrect</td>\n",
       "      <td>0.0</td>\n",
       "      <td>The generated answer claims that Medik8 Crysta...</td>\n",
       "      <td>Low</td>\n",
       "      <td>Low</td>\n",
       "    </tr>\n",
       "    <tr>\n",
       "      <th>537</th>\n",
       "      <td>3998</td>\n",
       "      <td>What skincare concern does Elemis Pro-Collagen...</td>\n",
       "      <td>['ACNE_BLEMISHES', 'UNEVEN_SKINTONE']</td>\n",
       "      <td>Elemis Pro-Collagen Cleansing Balm 100g (Vario...</td>\n",
       "      <td>6.143693</td>\n",
       "      <td>Incorrect</td>\n",
       "      <td>30.0</td>\n",
       "      <td>The generated answer states that the product a...</td>\n",
       "      <td>Low</td>\n",
       "      <td>Medium</td>\n",
       "    </tr>\n",
       "    <tr>\n",
       "      <th>538</th>\n",
       "      <td>4000</td>\n",
       "      <td>What skincare concern does The INKEY List Succ...</td>\n",
       "      <td>['ACNE_BLEMISHES', 'OILY_SKIN']</td>\n",
       "      <td>The INKEY List Succinic Acid Treatment 15ml ad...</td>\n",
       "      <td>5.264198</td>\n",
       "      <td>Partially Correct</td>\n",
       "      <td>70.0</td>\n",
       "      <td>The generated answer correctly identifies that...</td>\n",
       "      <td>Medium</td>\n",
       "      <td>High</td>\n",
       "    </tr>\n",
       "    <tr>\n",
       "      <th>539</th>\n",
       "      <td>4001</td>\n",
       "      <td>What skincare concern does The INKEY List Sali...</td>\n",
       "      <td>['ACNE_BLEMISHES', 'DULL_SKIN', 'PIGMENTATION'...</td>\n",
       "      <td>The INKEY List Salicylic Acid Cleanser 60ml is...</td>\n",
       "      <td>4.964360</td>\n",
       "      <td>Partially Correct</td>\n",
       "      <td>60.0</td>\n",
       "      <td>The generated answer correctly identifies acne...</td>\n",
       "      <td>Medium</td>\n",
       "      <td>High</td>\n",
       "    </tr>\n",
       "  </tbody>\n",
       "</table>\n",
       "<p>540 rows × 10 columns</p>\n",
       "</div>"
      ],
      "text/plain": [
       "     Unnamed: 0                                           Question  \\\n",
       "0             6  What skincare concern does Dermalogica Dynamic...   \n",
       "1            18  What skincare concern does Natura Bissé Stabil...   \n",
       "2            35  What skincare concern does Lanolips 101 Ointme...   \n",
       "3            47  What skincare concern does Lancôme Clarifique ...   \n",
       "4            58  What skincare concern does FOREO UFO 3 Device ...   \n",
       "..          ...                                                ...   \n",
       "535        3992  What skincare concern does Caudalie Beauty Eli...   \n",
       "536        3995  What skincare concern does Medik8 Crystal Reti...   \n",
       "537        3998  What skincare concern does Elemis Pro-Collagen...   \n",
       "538        4000  What skincare concern does The INKEY List Succ...   \n",
       "539        4001  What skincare concern does The INKEY List Sali...   \n",
       "\n",
       "                                                Answer  \\\n",
       "0    ['anti-ageing', 'dull-skin', 'uneven-skintone'...   \n",
       "1    ['oily-skin', 'blocked-pores-dead-skin', 'acne...   \n",
       "2                                         ['dry-skin']   \n",
       "3                                        ['dull-skin']   \n",
       "4    ['anti-ageing', 'dull-skin', 'uneven-skintone'...   \n",
       "..                                                 ...   \n",
       "535  ['ACNE_BLEMISHES', 'COMBINATION_SKIN', 'DRY_SK...   \n",
       "536  ['ACNE_BLEMISHES', 'COMBINATION_SKIN', 'DRY_SK...   \n",
       "537              ['ACNE_BLEMISHES', 'UNEVEN_SKINTONE']   \n",
       "538                    ['ACNE_BLEMISHES', 'OILY_SKIN']   \n",
       "539  ['ACNE_BLEMISHES', 'DULL_SKIN', 'PIGMENTATION'...   \n",
       "\n",
       "                                      Generated_Answer  Response_Time  \\\n",
       "0    Request Error: HTTPConnectionPool(host='127.0....       3.741524   \n",
       "1    The Natura Bissé Stabilizing Cleansing Mask 75...      11.799336   \n",
       "2    The Lanolips 101 Ointment Multi-Balm - Coconut...       3.385285   \n",
       "3    Lancôme Clarifique Day Cream 50ml is designed ...       2.672086   \n",
       "4    The FOREO UFO 3 Device - Arctic Blue addresses...       3.333756   \n",
       "..                                                 ...            ...   \n",
       "535  Caudalie Beauty Elixir 30ml addresses dull ski...       4.665567   \n",
       "536  Medik8 Crystal Retinal 6 addresses the skincar...       4.709436   \n",
       "537  Elemis Pro-Collagen Cleansing Balm 100g (Vario...       6.143693   \n",
       "538  The INKEY List Succinic Acid Treatment 15ml ad...       5.264198   \n",
       "539  The INKEY List Salicylic Acid Cleanser 60ml is...       4.964360   \n",
       "\n",
       "               Verdict  Score  \\\n",
       "0              Correct  100.0   \n",
       "1              Correct  100.0   \n",
       "2              Correct  100.0   \n",
       "3              Correct  100.0   \n",
       "4              Correct  100.0   \n",
       "..                 ...    ...   \n",
       "535  Partially Correct   70.0   \n",
       "536          Incorrect    0.0   \n",
       "537          Incorrect   30.0   \n",
       "538  Partially Correct   70.0   \n",
       "539  Partially Correct   60.0   \n",
       "\n",
       "                                           Explanation Accuracy Relevance  \n",
       "0    The generated answer accurately aligns with th...     High      High  \n",
       "1    The generated answer accurately lists the skin...     High      High  \n",
       "2    The generated answer accurately aligns with th...     High      High  \n",
       "3    The generated answer directly aligns with the ...     High      High  \n",
       "4    The generated answer accurately matches the re...     High      High  \n",
       "..                                                 ...      ...       ...  \n",
       "535  The generated answer mentions dull skin, which...   Medium    Medium  \n",
       "536  The generated answer claims that Medik8 Crysta...      Low       Low  \n",
       "537  The generated answer states that the product a...      Low    Medium  \n",
       "538  The generated answer correctly identifies that...   Medium      High  \n",
       "539  The generated answer correctly identifies acne...   Medium      High  \n",
       "\n",
       "[540 rows x 10 columns]"
      ]
     },
     "execution_count": 151,
     "metadata": {},
     "output_type": "execute_result"
    }
   ],
   "source": [
    "df_errors = pd.read_csv('/home/jasmine/Documents/Study/DATN/code/qa-cosmetics-model/evaluate/result/tdcosmetics/final/skincare_concern_error.csv')\n",
    "df_errors_1 = pd.read_csv('/home/jasmine/Documents/Study/DATN/code/qa-cosmetics-model/evaluate/result/tdcosmetics/final/skincare_concern_error copy.csv')\n",
    "df_errors_2 = pd.read_csv('/home/jasmine/Documents/Study/DATN/code/qa-cosmetics-model/evaluate/result/tdcosmetics/final/skincare_concern_error copy 2.csv')\n",
    "\n",
    "df_errors_1"
   ]
  },
  {
   "cell_type": "code",
   "execution_count": 156,
   "id": "ea400ed2",
   "metadata": {},
   "outputs": [
    {
     "data": {
      "text/plain": [
       "540"
      ]
     },
     "execution_count": 156,
     "metadata": {},
     "output_type": "execute_result"
    }
   ],
   "source": [
    "len(df_errors['Score'])"
   ]
  },
  {
   "cell_type": "code",
   "execution_count": 158,
   "id": "aa8f99b5",
   "metadata": {},
   "outputs": [],
   "source": [
    "# df_backup = df\n",
    "df = df_backup"
   ]
  },
  {
   "cell_type": "code",
   "execution_count": 159,
   "id": "74e846bf",
   "metadata": {},
   "outputs": [
    {
     "data": {
      "text/html": [
       "<div>\n",
       "<style scoped>\n",
       "    .dataframe tbody tr th:only-of-type {\n",
       "        vertical-align: middle;\n",
       "    }\n",
       "\n",
       "    .dataframe tbody tr th {\n",
       "        vertical-align: top;\n",
       "    }\n",
       "\n",
       "    .dataframe thead th {\n",
       "        text-align: right;\n",
       "    }\n",
       "</style>\n",
       "<table border=\"1\" class=\"dataframe\">\n",
       "  <thead>\n",
       "    <tr style=\"text-align: right;\">\n",
       "      <th></th>\n",
       "      <th>Question</th>\n",
       "      <th>Answer</th>\n",
       "      <th>Generated_Answer</th>\n",
       "      <th>Response_Time</th>\n",
       "      <th>Verdict</th>\n",
       "      <th>Score</th>\n",
       "      <th>Explanation</th>\n",
       "      <th>Accuracy</th>\n",
       "      <th>Relevance</th>\n",
       "    </tr>\n",
       "  </thead>\n",
       "  <tbody>\n",
       "    <tr>\n",
       "      <th>0</th>\n",
       "      <td>What skincare concern does By Terry Cellularos...</td>\n",
       "      <td>['acne-blemishes', 'normal-combination', 'dry-...</td>\n",
       "      <td>The By Terry Cellularose CC Serum addresses se...</td>\n",
       "      <td>7.746953</td>\n",
       "      <td>Correct</td>\n",
       "      <td>100.0</td>\n",
       "      <td>The generated answer aligns perfectly with the...</td>\n",
       "      <td>High</td>\n",
       "      <td>High</td>\n",
       "    </tr>\n",
       "    <tr>\n",
       "      <th>1</th>\n",
       "      <td>What skincare concern does La Roche-Posay Effa...</td>\n",
       "      <td>['acne-blemishes']</td>\n",
       "      <td>La Roche-Posay Effaclar Duo+M Anti-Blemish Cor...</td>\n",
       "      <td>3.009873</td>\n",
       "      <td>Correct</td>\n",
       "      <td>100.0</td>\n",
       "      <td>The generated answer accurately aligns with th...</td>\n",
       "      <td>High</td>\n",
       "      <td>High</td>\n",
       "    </tr>\n",
       "    <tr>\n",
       "      <th>2</th>\n",
       "      <td>What skincare concern does Omorovicza Ultramoo...</td>\n",
       "      <td>['sensitive']</td>\n",
       "      <td>The Omorovicza Ultramoor Mud Mask 50ml is desi...</td>\n",
       "      <td>3.068830</td>\n",
       "      <td>Correct</td>\n",
       "      <td>100.0</td>\n",
       "      <td>The generated answer precisely aligns with the...</td>\n",
       "      <td>High</td>\n",
       "      <td>High</td>\n",
       "    </tr>\n",
       "    <tr>\n",
       "      <th>3</th>\n",
       "      <td>What skincare concern does Glow Hub Tinted Sun...</td>\n",
       "      <td>['dull-skin', 'uneven-skintone', 'sensitive']</td>\n",
       "      <td>Glow Hub Tinted Sun Silk SPF 30 50ml addresses...</td>\n",
       "      <td>3.537057</td>\n",
       "      <td>Correct</td>\n",
       "      <td>100.0</td>\n",
       "      <td>The generated answer is accurate and aligns pe...</td>\n",
       "      <td>High</td>\n",
       "      <td>High</td>\n",
       "    </tr>\n",
       "    <tr>\n",
       "      <th>4</th>\n",
       "      <td>What skincare concern does The INKEY List Sali...</td>\n",
       "      <td>['acne-blemishes']</td>\n",
       "      <td>The INKEY List Salicylic Acid Cleanser 60ml is...</td>\n",
       "      <td>3.124342</td>\n",
       "      <td>Correct</td>\n",
       "      <td>100.0</td>\n",
       "      <td>The generated answer accurately aligns with th...</td>\n",
       "      <td>High</td>\n",
       "      <td>High</td>\n",
       "    </tr>\n",
       "    <tr>\n",
       "      <th>...</th>\n",
       "      <td>...</td>\n",
       "      <td>...</td>\n",
       "      <td>...</td>\n",
       "      <td>...</td>\n",
       "      <td>...</td>\n",
       "      <td>...</td>\n",
       "      <td>...</td>\n",
       "      <td>...</td>\n",
       "      <td>...</td>\n",
       "    </tr>\n",
       "    <tr>\n",
       "      <th>4002</th>\n",
       "      <td>What skincare concern does Medik8 Blemish Cont...</td>\n",
       "      <td>['ACNE_BLEMISHES', 'COMBINATION_SKIN', 'OILY_S...</td>\n",
       "      <td>Medik8 Blemish Control Pads (60 Pads) are desi...</td>\n",
       "      <td>5.419982</td>\n",
       "      <td>Correct</td>\n",
       "      <td>100.0</td>\n",
       "      <td>The generated answer accurately aligns with th...</td>\n",
       "      <td>High</td>\n",
       "      <td>High</td>\n",
       "    </tr>\n",
       "    <tr>\n",
       "      <th>4003</th>\n",
       "      <td>What skincare concern does Medik8 Blemish Cont...</td>\n",
       "      <td>['ACNE_BLEMISHES', 'COMBINATION_SKIN', 'OILY_S...</td>\n",
       "      <td>Medik8 Blemish Control Pads (60 Pads) are desi...</td>\n",
       "      <td>6.880619</td>\n",
       "      <td>Correct</td>\n",
       "      <td>100.0</td>\n",
       "      <td>The generated answer accurately aligns with th...</td>\n",
       "      <td>High</td>\n",
       "      <td>High</td>\n",
       "    </tr>\n",
       "    <tr>\n",
       "      <th>4004</th>\n",
       "      <td>What skincare concern does COSRX Master Patch ...</td>\n",
       "      <td>['ACNE_BLEMISHES']</td>\n",
       "      <td>The COSRX Master Patch Intensive (36 Pack) is ...</td>\n",
       "      <td>4.985779</td>\n",
       "      <td>Correct</td>\n",
       "      <td>100.0</td>\n",
       "      <td>The generated answer directly aligns with the ...</td>\n",
       "      <td>High</td>\n",
       "      <td>High</td>\n",
       "    </tr>\n",
       "    <tr>\n",
       "      <th>4005</th>\n",
       "      <td>What skincare concern does Medik8 Blemish Cont...</td>\n",
       "      <td>['ACNE_BLEMISHES', 'COMBINATION_SKIN', 'OILY_S...</td>\n",
       "      <td>Medik8 Blemish Control Pads (60 Pads) primaril...</td>\n",
       "      <td>5.999186</td>\n",
       "      <td>Correct</td>\n",
       "      <td>100.0</td>\n",
       "      <td>The generated answer accurately reflects the r...</td>\n",
       "      <td>High</td>\n",
       "      <td>High</td>\n",
       "    </tr>\n",
       "    <tr>\n",
       "      <th>4006</th>\n",
       "      <td>What skincare concern does COSRX Master Patch ...</td>\n",
       "      <td>['ACNE_BLEMISHES']</td>\n",
       "      <td>The COSRX Master Patch Intensive (36 Pack) is ...</td>\n",
       "      <td>5.740329</td>\n",
       "      <td>Correct</td>\n",
       "      <td>100.0</td>\n",
       "      <td>The generated answer accurately identifies the...</td>\n",
       "      <td>High</td>\n",
       "      <td>High</td>\n",
       "    </tr>\n",
       "  </tbody>\n",
       "</table>\n",
       "<p>3450 rows × 9 columns</p>\n",
       "</div>"
      ],
      "text/plain": [
       "                                               Question  \\\n",
       "0     What skincare concern does By Terry Cellularos...   \n",
       "1     What skincare concern does La Roche-Posay Effa...   \n",
       "2     What skincare concern does Omorovicza Ultramoo...   \n",
       "3     What skincare concern does Glow Hub Tinted Sun...   \n",
       "4     What skincare concern does The INKEY List Sali...   \n",
       "...                                                 ...   \n",
       "4002  What skincare concern does Medik8 Blemish Cont...   \n",
       "4003  What skincare concern does Medik8 Blemish Cont...   \n",
       "4004  What skincare concern does COSRX Master Patch ...   \n",
       "4005  What skincare concern does Medik8 Blemish Cont...   \n",
       "4006  What skincare concern does COSRX Master Patch ...   \n",
       "\n",
       "                                                 Answer  \\\n",
       "0     ['acne-blemishes', 'normal-combination', 'dry-...   \n",
       "1                                    ['acne-blemishes']   \n",
       "2                                         ['sensitive']   \n",
       "3         ['dull-skin', 'uneven-skintone', 'sensitive']   \n",
       "4                                    ['acne-blemishes']   \n",
       "...                                                 ...   \n",
       "4002  ['ACNE_BLEMISHES', 'COMBINATION_SKIN', 'OILY_S...   \n",
       "4003  ['ACNE_BLEMISHES', 'COMBINATION_SKIN', 'OILY_S...   \n",
       "4004                                 ['ACNE_BLEMISHES']   \n",
       "4005  ['ACNE_BLEMISHES', 'COMBINATION_SKIN', 'OILY_S...   \n",
       "4006                                 ['ACNE_BLEMISHES']   \n",
       "\n",
       "                                       Generated_Answer  Response_Time  \\\n",
       "0     The By Terry Cellularose CC Serum addresses se...       7.746953   \n",
       "1     La Roche-Posay Effaclar Duo+M Anti-Blemish Cor...       3.009873   \n",
       "2     The Omorovicza Ultramoor Mud Mask 50ml is desi...       3.068830   \n",
       "3     Glow Hub Tinted Sun Silk SPF 30 50ml addresses...       3.537057   \n",
       "4     The INKEY List Salicylic Acid Cleanser 60ml is...       3.124342   \n",
       "...                                                 ...            ...   \n",
       "4002  Medik8 Blemish Control Pads (60 Pads) are desi...       5.419982   \n",
       "4003  Medik8 Blemish Control Pads (60 Pads) are desi...       6.880619   \n",
       "4004  The COSRX Master Patch Intensive (36 Pack) is ...       4.985779   \n",
       "4005  Medik8 Blemish Control Pads (60 Pads) primaril...       5.999186   \n",
       "4006  The COSRX Master Patch Intensive (36 Pack) is ...       5.740329   \n",
       "\n",
       "      Verdict  Score                                        Explanation  \\\n",
       "0     Correct  100.0  The generated answer aligns perfectly with the...   \n",
       "1     Correct  100.0  The generated answer accurately aligns with th...   \n",
       "2     Correct  100.0  The generated answer precisely aligns with the...   \n",
       "3     Correct  100.0  The generated answer is accurate and aligns pe...   \n",
       "4     Correct  100.0  The generated answer accurately aligns with th...   \n",
       "...       ...    ...                                                ...   \n",
       "4002  Correct  100.0  The generated answer accurately aligns with th...   \n",
       "4003  Correct  100.0  The generated answer accurately aligns with th...   \n",
       "4004  Correct  100.0  The generated answer directly aligns with the ...   \n",
       "4005  Correct  100.0  The generated answer accurately reflects the r...   \n",
       "4006  Correct  100.0  The generated answer accurately identifies the...   \n",
       "\n",
       "     Accuracy Relevance  \n",
       "0        High      High  \n",
       "1        High      High  \n",
       "2        High      High  \n",
       "3        High      High  \n",
       "4        High      High  \n",
       "...       ...       ...  \n",
       "4002     High      High  \n",
       "4003     High      High  \n",
       "4004     High      High  \n",
       "4005     High      High  \n",
       "4006     High      High  \n",
       "\n",
       "[3450 rows x 9 columns]"
      ]
     },
     "execution_count": 159,
     "metadata": {},
     "output_type": "execute_result"
    }
   ],
   "source": [
    "indexes_error = df_errors['Unnamed: 0']\n",
    "df_update = df_errors.drop(columns=['Unnamed: 0'])\n",
    "\n",
    "df_update = df_update[df.columns]\n",
    "df.loc[indexes_error] = df_update\n",
    "df = df[df['Score'].notna()]\n",
    "df.loc[~df.index.isin(indexes_error)]"
   ]
  },
  {
   "cell_type": "code",
   "execution_count": 161,
   "id": "11aead7d",
   "metadata": {},
   "outputs": [
    {
     "data": {
      "text/plain": [
       "Score\n",
       "100.0    3391\n",
       "75.0       79\n",
       "85.0        9\n",
       "80.0        9\n",
       "70.0        6\n",
       "95.0        5\n",
       "30.0        2\n",
       "60.0        2\n",
       "20.0        2\n",
       "50.0        1\n",
       "Name: count, dtype: int64"
      ]
     },
     "execution_count": 161,
     "metadata": {},
     "output_type": "execute_result"
    }
   ],
   "source": [
    "df['Score'].value_counts()"
   ]
  },
  {
   "cell_type": "code",
   "execution_count": 164,
   "id": "44154470",
   "metadata": {},
   "outputs": [
    {
     "data": {
      "text/plain": [
       "0.9962920707358813"
      ]
     },
     "execution_count": 164,
     "metadata": {},
     "output_type": "execute_result"
    }
   ],
   "source": [
    "len(df[df['Score'] > 70]) / len(df)"
   ]
  },
  {
   "cell_type": "code",
   "execution_count": 163,
   "id": "f122945d",
   "metadata": {},
   "outputs": [
    {
     "data": {
      "text/plain": [
       "Score\n",
       "60.0    2\n",
       "30.0    2\n",
       "20.0    2\n",
       "50.0    1\n",
       "Name: count, dtype: int64"
      ]
     },
     "execution_count": 163,
     "metadata": {},
     "output_type": "execute_result"
    }
   ],
   "source": [
    "df[df['Score'] < 70]['Score'].value_counts()"
   ]
  },
  {
   "cell_type": "markdown",
   "id": "1173c7c3",
   "metadata": {},
   "source": [
    "# How to use"
   ]
  },
  {
   "cell_type": "code",
   "execution_count": null,
   "id": "412472d6",
   "metadata": {},
   "outputs": [],
   "source": [
    "# df.to_csv('result/tdcosmetics/neo4j/products/neo4j_products_how_to_use.csv', index=False)"
   ]
  },
  {
   "cell_type": "code",
   "execution_count": 3,
   "id": "499c99ed",
   "metadata": {},
   "outputs": [],
   "source": [
    "# df_1 = pd.read_csv('result/tdcosmetics/neo4j/products/neo4j_products_how_to_use_backup.csv')\n",
    "# df_2 = pd.read_csv('result/tdcosmetics/neo4j/products/neo4j_products_how_to_use copy.csv')\n",
    "# df_3 = pd.read_csv('result/tdcosmetics/neo4j/products/neo4j_products_how_to_use copy 2.csv')\n",
    "# df_4 = pd.read_csv('result/tdcosmetics/neo4j/products/neo4j_products_how_to_use copy 3.csv')\n",
    "# df_5 = pd.read_csv('result/tdcosmetics/neo4j/products/neo4j_products_how_to_use copy 4.csv')\n",
    "# df_6 = pd.read_csv('result/tdcosmetics/neo4j/products/neo4j_products_how_to_use.csv')\n",
    "\n",
    "def find_end_row_processing(df, start_row = 0):\n",
    "    for i, row in df[start_row:].iterrows():\n",
    "        if pd.notna(row['Score']) == False:\n",
    "            print(f'End row = {i}')\n",
    "            return i\n",
    "\n",
    "def find_start_row_processing(df):\n",
    "    for i, row in df.iterrows():\n",
    "        if pd.notna(row['Score']) == True:\n",
    "            print(f'Start row = {i}')\n",
    "            return i\n",
    "\n",
    "def find_processing_rows(df):\n",
    "    start_row = find_start_row_processing(df)\n",
    "    end_row = find_end_row_processing(df, start_row)\n",
    "    return df[start_row:end_row]"
   ]
  },
  {
   "cell_type": "code",
   "execution_count": 199,
   "id": "9ebb3cf3",
   "metadata": {},
   "outputs": [
    {
     "name": "stdout",
     "output_type": "stream",
     "text": [
      "Start row = 0\n",
      "Start row = 55\n",
      "Start row = 658\n",
      "Start row = 950\n",
      "Start row = 950\n",
      "Start row = 950\n"
     ]
    }
   ],
   "source": [
    "df_1 = find_processing_rows(df_1)\n",
    "df_2 = find_processing_rows(df_2)\n",
    "df_3 = find_processing_rows(df_3)\n",
    "df_4 = find_processing_rows(df_4)\n",
    "df_5 = find_processing_rows(df_5)\n",
    "df_6 = find_processing_rows(df_6)"
   ]
  },
  {
   "cell_type": "code",
   "execution_count": 196,
   "id": "4f2cee75",
   "metadata": {},
   "outputs": [
    {
     "data": {
      "text/plain": [
       "Score\n",
       "100.0    937\n",
       "0.0       49\n",
       "20.0      38\n",
       "75.0      32\n",
       "70.0      29\n",
       "85.0      17\n",
       "60.0      15\n",
       "40.0      10\n",
       "95.0       9\n",
       "30.0       6\n",
       "35.0       6\n",
       "25.0       6\n",
       "80.0       4\n",
       "65.0       3\n",
       "90.0       3\n",
       "Name: count, dtype: int64"
      ]
     },
     "execution_count": 196,
     "metadata": {},
     "output_type": "execute_result"
    }
   ],
   "source": [
    "df = pd.concat([df_1, df_2, df_3, df_4, df_5, df_6])\n",
    "df['Score'].value_counts()"
   ]
  },
  {
   "cell_type": "code",
   "execution_count": 205,
   "id": "dbf89a1f",
   "metadata": {},
   "outputs": [],
   "source": [
    "df[df['Score'] < 70][['Question', 'Answer']].to_csv(r'/home/jasmine/Documents/Study/DATN/code/qa-cosmetics-model/evaluate/result/tdcosmetics/neo4j/products/neo4j_products_how_to_use_errors.csv')"
   ]
  },
  {
   "cell_type": "code",
   "execution_count": 204,
   "id": "f7b4677f",
   "metadata": {},
   "outputs": [
    {
     "data": {
      "text/plain": [
       "133"
      ]
     },
     "execution_count": 204,
     "metadata": {},
     "output_type": "execute_result"
    }
   ],
   "source": [
    "len(df[df['Score'] < 70])"
   ]
  },
  {
   "cell_type": "code",
   "execution_count": 229,
   "id": "0a320d61",
   "metadata": {},
   "outputs": [
    {
     "data": {
      "text/plain": [
       "1164"
      ]
     },
     "execution_count": 229,
     "metadata": {},
     "output_type": "execute_result"
    }
   ],
   "source": [
    "df_backup = pd.read_csv('result/tdcosmetics/neo4j/products/neo4j_products_how_to_use.csv')\n",
    "len(df_backup)"
   ]
  },
  {
   "cell_type": "code",
   "execution_count": 226,
   "id": "070ddf8c",
   "metadata": {},
   "outputs": [],
   "source": [
    "df = pd.read_csv('result/tdcosmetics/neo4j/products/neo4j_products_how_to_use.csv')\n",
    "df_errors = pd.read_csv('result/tdcosmetics/neo4j/products/neo4j_products_how_to_use_errors.csv')"
   ]
  },
  {
   "cell_type": "code",
   "execution_count": 228,
   "id": "576512b5",
   "metadata": {},
   "outputs": [
    {
     "data": {
      "text/html": [
       "<div>\n",
       "<style scoped>\n",
       "    .dataframe tbody tr th:only-of-type {\n",
       "        vertical-align: middle;\n",
       "    }\n",
       "\n",
       "    .dataframe tbody tr th {\n",
       "        vertical-align: top;\n",
       "    }\n",
       "\n",
       "    .dataframe thead th {\n",
       "        text-align: right;\n",
       "    }\n",
       "</style>\n",
       "<table border=\"1\" class=\"dataframe\">\n",
       "  <thead>\n",
       "    <tr style=\"text-align: right;\">\n",
       "      <th></th>\n",
       "      <th>Question</th>\n",
       "      <th>Answer</th>\n",
       "      <th>Generated_Answer</th>\n",
       "      <th>Response_Time</th>\n",
       "      <th>Verdict</th>\n",
       "      <th>Score</th>\n",
       "      <th>Explanation</th>\n",
       "      <th>Accuracy</th>\n",
       "      <th>Relevance</th>\n",
       "    </tr>\n",
       "  </thead>\n",
       "  <tbody>\n",
       "    <tr>\n",
       "      <th>0</th>\n",
       "      <td>How to use By Terry Cellularose CC Serum 30ml ...</td>\n",
       "      <td>Apply to the contours of the face with the tip...</td>\n",
       "      <td>To use By Terry Cellularose CC Serum, apply it...</td>\n",
       "      <td>15.708499</td>\n",
       "      <td>Correct</td>\n",
       "      <td>100.0</td>\n",
       "      <td>The generated answer aligns fully with the ref...</td>\n",
       "      <td>High</td>\n",
       "      <td>High</td>\n",
       "    </tr>\n",
       "    <tr>\n",
       "      <th>1</th>\n",
       "      <td>How to use La Roche-Posay Effaclar Duo+M Anti-...</td>\n",
       "      <td>☼ AM / ☽ PM\\nWhen to Use: After using Effaclar...</td>\n",
       "      <td>To use La Roche-Posay Effaclar Duo+M Anti-Blem...</td>\n",
       "      <td>4.328263</td>\n",
       "      <td>Correct</td>\n",
       "      <td>100.0</td>\n",
       "      <td>The generated answer is fully aligned with the...</td>\n",
       "      <td>High</td>\n",
       "      <td>High</td>\n",
       "    </tr>\n",
       "    <tr>\n",
       "      <th>2</th>\n",
       "      <td>How to use Omorovicza Ultramoor Mud Mask 50ml?</td>\n",
       "      <td>Apply a generous amount to face and neck, avoi...</td>\n",
       "      <td>To use the Omorovicza Ultramoor Mud Mask, appl...</td>\n",
       "      <td>3.861891</td>\n",
       "      <td>Correct</td>\n",
       "      <td>100.0</td>\n",
       "      <td>The generated answer is fully accurate and ali...</td>\n",
       "      <td>High</td>\n",
       "      <td>High</td>\n",
       "    </tr>\n",
       "    <tr>\n",
       "      <th>3</th>\n",
       "      <td>How to use Glow Hub Tinted Sun Silk SPF 30 50m...</td>\n",
       "      <td>☼ AM\\nWhen to Use: After moisturiser, before m...</td>\n",
       "      <td>To use Glow Hub Tinted Sun Silk SPF 30, apply ...</td>\n",
       "      <td>3.163632</td>\n",
       "      <td>Correct</td>\n",
       "      <td>100.0</td>\n",
       "      <td>The generated answer is fully aligned with the...</td>\n",
       "      <td>High</td>\n",
       "      <td>High</td>\n",
       "    </tr>\n",
       "    <tr>\n",
       "      <th>4</th>\n",
       "      <td>How to use The INKEY List Salicylic Acid Clean...</td>\n",
       "      <td>☼ AM / ☽ PM\\nWhen to Use: Use as first step in...</td>\n",
       "      <td>To use The INKEY List Salicylic Acid Cleanser,...</td>\n",
       "      <td>4.047894</td>\n",
       "      <td>Correct</td>\n",
       "      <td>100.0</td>\n",
       "      <td>The generated answer aligns with the reference...</td>\n",
       "      <td>High</td>\n",
       "      <td>High</td>\n",
       "    </tr>\n",
       "    <tr>\n",
       "      <th>...</th>\n",
       "      <td>...</td>\n",
       "      <td>...</td>\n",
       "      <td>...</td>\n",
       "      <td>...</td>\n",
       "      <td>...</td>\n",
       "      <td>...</td>\n",
       "      <td>...</td>\n",
       "      <td>...</td>\n",
       "      <td>...</td>\n",
       "    </tr>\n",
       "    <tr>\n",
       "      <th>1159</th>\n",
       "      <td>How to use Eucerin Hyaluron-Filler Day Cream S...</td>\n",
       "      <td>☼ AM\\nWhen to Use: After cleansing.\\nApplicati...</td>\n",
       "      <td>To use Eucerin Hyaluron-Filler Day Cream SPF30...</td>\n",
       "      <td>3.885011</td>\n",
       "      <td>Correct</td>\n",
       "      <td>100.0</td>\n",
       "      <td>The generated answer aligns perfectly with the...</td>\n",
       "      <td>High</td>\n",
       "      <td>High</td>\n",
       "    </tr>\n",
       "    <tr>\n",
       "      <th>1160</th>\n",
       "      <td>How to use Sarah Chapman Skinesis Professional...</td>\n",
       "      <td>Application: Soak mitts in warm water, slot ov...</td>\n",
       "      <td>To use the Sarah Chapman Skinesis Professional...</td>\n",
       "      <td>3.163924</td>\n",
       "      <td>Correct</td>\n",
       "      <td>100.0</td>\n",
       "      <td>The generated answer accurately follows the in...</td>\n",
       "      <td>High</td>\n",
       "      <td>High</td>\n",
       "    </tr>\n",
       "    <tr>\n",
       "      <th>1161</th>\n",
       "      <td>How to use L'Oréal Paris Dermo Expertise Tripl...</td>\n",
       "      <td>You only need to apply this triple-action crea...</td>\n",
       "      <td>To use L'Oréal Paris Dermo Expertise Triple Ac...</td>\n",
       "      <td>3.833030</td>\n",
       "      <td>Correct</td>\n",
       "      <td>100.0</td>\n",
       "      <td>The generated answer aligns perfectly with the...</td>\n",
       "      <td>High</td>\n",
       "      <td>High</td>\n",
       "    </tr>\n",
       "    <tr>\n",
       "      <th>1162</th>\n",
       "      <td>How to use Herbivore Orchid Camellia and Jasmi...</td>\n",
       "      <td>Apply 3–10 drops to cleansed and toned skin mo...</td>\n",
       "      <td>To use the Herbivore Orchid Camellia and Jasmi...</td>\n",
       "      <td>4.244380</td>\n",
       "      <td>Correct</td>\n",
       "      <td>100.0</td>\n",
       "      <td>The generated answer is factually accurate, en...</td>\n",
       "      <td>High</td>\n",
       "      <td>High</td>\n",
       "    </tr>\n",
       "    <tr>\n",
       "      <th>1163</th>\n",
       "      <td>How to use SVR SEBIACLEAR Micro-Peel - Salycil...</td>\n",
       "      <td>Morning and evening, apply with a cotton pad t...</td>\n",
       "      <td>To use the SVR SEBIACLEAR Micro-Peel, apply it...</td>\n",
       "      <td>3.678840</td>\n",
       "      <td>Correct</td>\n",
       "      <td>100.0</td>\n",
       "      <td>The generated answer accurately mirrors the in...</td>\n",
       "      <td>High</td>\n",
       "      <td>High</td>\n",
       "    </tr>\n",
       "  </tbody>\n",
       "</table>\n",
       "<p>1031 rows × 9 columns</p>\n",
       "</div>"
      ],
      "text/plain": [
       "                                               Question  \\\n",
       "0     How to use By Terry Cellularose CC Serum 30ml ...   \n",
       "1     How to use La Roche-Posay Effaclar Duo+M Anti-...   \n",
       "2        How to use Omorovicza Ultramoor Mud Mask 50ml?   \n",
       "3     How to use Glow Hub Tinted Sun Silk SPF 30 50m...   \n",
       "4     How to use The INKEY List Salicylic Acid Clean...   \n",
       "...                                                 ...   \n",
       "1159  How to use Eucerin Hyaluron-Filler Day Cream S...   \n",
       "1160  How to use Sarah Chapman Skinesis Professional...   \n",
       "1161  How to use L'Oréal Paris Dermo Expertise Tripl...   \n",
       "1162  How to use Herbivore Orchid Camellia and Jasmi...   \n",
       "1163  How to use SVR SEBIACLEAR Micro-Peel - Salycil...   \n",
       "\n",
       "                                                 Answer  \\\n",
       "0     Apply to the contours of the face with the tip...   \n",
       "1     ☼ AM / ☽ PM\\nWhen to Use: After using Effaclar...   \n",
       "2     Apply a generous amount to face and neck, avoi...   \n",
       "3     ☼ AM\\nWhen to Use: After moisturiser, before m...   \n",
       "4     ☼ AM / ☽ PM\\nWhen to Use: Use as first step in...   \n",
       "...                                                 ...   \n",
       "1159  ☼ AM\\nWhen to Use: After cleansing.\\nApplicati...   \n",
       "1160  Application: Soak mitts in warm water, slot ov...   \n",
       "1161  You only need to apply this triple-action crea...   \n",
       "1162  Apply 3–10 drops to cleansed and toned skin mo...   \n",
       "1163  Morning and evening, apply with a cotton pad t...   \n",
       "\n",
       "                                       Generated_Answer  Response_Time  \\\n",
       "0     To use By Terry Cellularose CC Serum, apply it...      15.708499   \n",
       "1     To use La Roche-Posay Effaclar Duo+M Anti-Blem...       4.328263   \n",
       "2     To use the Omorovicza Ultramoor Mud Mask, appl...       3.861891   \n",
       "3     To use Glow Hub Tinted Sun Silk SPF 30, apply ...       3.163632   \n",
       "4     To use The INKEY List Salicylic Acid Cleanser,...       4.047894   \n",
       "...                                                 ...            ...   \n",
       "1159  To use Eucerin Hyaluron-Filler Day Cream SPF30...       3.885011   \n",
       "1160  To use the Sarah Chapman Skinesis Professional...       3.163924   \n",
       "1161  To use L'Oréal Paris Dermo Expertise Triple Ac...       3.833030   \n",
       "1162  To use the Herbivore Orchid Camellia and Jasmi...       4.244380   \n",
       "1163  To use the SVR SEBIACLEAR Micro-Peel, apply it...       3.678840   \n",
       "\n",
       "      Verdict  Score                                        Explanation  \\\n",
       "0     Correct  100.0  The generated answer aligns fully with the ref...   \n",
       "1     Correct  100.0  The generated answer is fully aligned with the...   \n",
       "2     Correct  100.0  The generated answer is fully accurate and ali...   \n",
       "3     Correct  100.0  The generated answer is fully aligned with the...   \n",
       "4     Correct  100.0  The generated answer aligns with the reference...   \n",
       "...       ...    ...                                                ...   \n",
       "1159  Correct  100.0  The generated answer aligns perfectly with the...   \n",
       "1160  Correct  100.0  The generated answer accurately follows the in...   \n",
       "1161  Correct  100.0  The generated answer aligns perfectly with the...   \n",
       "1162  Correct  100.0  The generated answer is factually accurate, en...   \n",
       "1163  Correct  100.0  The generated answer accurately mirrors the in...   \n",
       "\n",
       "     Accuracy Relevance  \n",
       "0        High      High  \n",
       "1        High      High  \n",
       "2        High      High  \n",
       "3        High      High  \n",
       "4        High      High  \n",
       "...       ...       ...  \n",
       "1159     High      High  \n",
       "1160     High      High  \n",
       "1161     High      High  \n",
       "1162     High      High  \n",
       "1163     High      High  \n",
       "\n",
       "[1031 rows x 9 columns]"
      ]
     },
     "execution_count": 228,
     "metadata": {},
     "output_type": "execute_result"
    }
   ],
   "source": [
    "indexes_error = df_errors['Unnamed: 0']\n",
    "df_update = df_errors.drop(columns=['Unnamed: 0'])\n",
    "\n",
    "df_update = df_update[df.columns]\n",
    "df.loc[indexes_error] = df_update\n",
    "df = df[df['Score'].notna()]\n",
    "df.loc[~df.index.isin(indexes_error)]"
   ]
  },
  {
   "cell_type": "code",
   "execution_count": 230,
   "id": "33948c93",
   "metadata": {},
   "outputs": [
    {
     "data": {
      "text/plain": [
       "0.9720347155255545"
      ]
     },
     "execution_count": 230,
     "metadata": {},
     "output_type": "execute_result"
    }
   ],
   "source": [
    "len(df[df['Score'] > 70]) / len(df)"
   ]
  },
  {
   "cell_type": "markdown",
   "id": "e1c9d6e5",
   "metadata": {},
   "source": [
    "# Price"
   ]
  },
  {
   "cell_type": "code",
   "execution_count": 28,
   "id": "6da6c92b",
   "metadata": {},
   "outputs": [],
   "source": [
    "import pandas as pd\n",
    "df1 = pd.read_csv(r'/home/jasmine/Documents/Study/DATN/code/qa-cosmetics-model/evaluate/result/tdcosmetics/final/neo4j_products_price.csv')\n",
    "df2 = pd.read_csv(r'/home/jasmine/Documents/Study/DATN/code/qa-cosmetics-model/evaluate/result/tdcosmetics/final/neo4j_products_price_2.csv')\n",
    "df3 = pd.read_csv(r'/home/jasmine/Documents/Study/DATN/code/qa-cosmetics-model/evaluate/result/tdcosmetics/final/neo4j_products_price_3.csv')\n",
    "df4 = pd.read_csv(r'/home/jasmine/Documents/Study/DATN/code/qa-cosmetics-model/evaluate/result/tdcosmetics/final/neo4j_products_price_4.csv')\n",
    "df5 = pd.read_csv(r'/home/jasmine/Documents/Study/DATN/code/qa-cosmetics-model/evaluate/result/tdcosmetics/final/neo4j_products_price_5.csv')\n",
    "df6 = pd.read_csv(r'/home/jasmine/Documents/Study/DATN/code/qa-cosmetics-model/evaluate/result/tdcosmetics/final/neo4j_products_price_6.csv')\n",
    "df7 = pd.read_csv(r'/home/jasmine/Documents/Study/DATN/code/qa-cosmetics-model/evaluate/result/tdcosmetics/final/neo4j_products_price_7.csv')"
   ]
  },
  {
   "cell_type": "code",
   "execution_count": 4,
   "id": "ee5047c8",
   "metadata": {},
   "outputs": [],
   "source": [
    "def find_end_row_processing(df, start_row = 0):\n",
    "    for i, row in df[start_row:].iterrows():\n",
    "        if pd.notna(row['Score']) == False:\n",
    "            print(f'End row = {i}')\n",
    "            return i\n",
    "\n",
    "def find_start_row_processing(df):\n",
    "    for i, row in df.iterrows():\n",
    "        if pd.notna(row['Score']) == True:\n",
    "            print(f'Start row = {i}')\n",
    "            return i\n",
    "\n",
    "def find_processing_rows(df):\n",
    "    start_row = find_start_row_processing(df)\n",
    "    end_row = find_end_row_processing(df, start_row)\n",
    "    return df[start_row:end_row]\n",
    "\n",
    "# df1 = find_processing_rows(df1)\n",
    "# df2 = find_processing_rows(df2)\n",
    "# df3 = find_processing_rows(df3)\n",
    "# df4 = find_processing_rows(df4)\n",
    "# df5 = find_processing_rows(df5)\n",
    "# df6 = find_processing_rows(df6)\n",
    "# df7 = find_processing_rows(df7)"
   ]
  },
  {
   "cell_type": "code",
   "execution_count": 32,
   "id": "7df370bd",
   "metadata": {},
   "outputs": [
    {
     "data": {
      "text/html": [
       "<div>\n",
       "<style scoped>\n",
       "    .dataframe tbody tr th:only-of-type {\n",
       "        vertical-align: middle;\n",
       "    }\n",
       "\n",
       "    .dataframe tbody tr th {\n",
       "        vertical-align: top;\n",
       "    }\n",
       "\n",
       "    .dataframe thead th {\n",
       "        text-align: right;\n",
       "    }\n",
       "</style>\n",
       "<table border=\"1\" class=\"dataframe\">\n",
       "  <thead>\n",
       "    <tr style=\"text-align: right;\">\n",
       "      <th></th>\n",
       "      <th>Question</th>\n",
       "      <th>Answer</th>\n",
       "      <th>Generated_Answer</th>\n",
       "      <th>Response_Time</th>\n",
       "      <th>Verdict</th>\n",
       "      <th>Score</th>\n",
       "      <th>Explanation</th>\n",
       "      <th>Accuracy</th>\n",
       "      <th>Relevance</th>\n",
       "    </tr>\n",
       "  </thead>\n",
       "  <tbody>\n",
       "    <tr>\n",
       "      <th>0</th>\n",
       "      <td>How much is By Terry Cellularose CC Serum 30ml...</td>\n",
       "      <td>£62.00</td>\n",
       "      <td>The By Terry Cellularose CC Serum 30ml (Variou...</td>\n",
       "      <td>3.643538</td>\n",
       "      <td>Correct</td>\n",
       "      <td>100.0</td>\n",
       "      <td>The generated answer accurately aligns with th...</td>\n",
       "      <td>High</td>\n",
       "      <td>High</td>\n",
       "    </tr>\n",
       "    <tr>\n",
       "      <th>1</th>\n",
       "      <td>How much is La Roche-Posay Effaclar Duo+M Anti...</td>\n",
       "      <td>£20.90</td>\n",
       "      <td>The La Roche-Posay Effaclar Duo+M Anti-Blemish...</td>\n",
       "      <td>3.625927</td>\n",
       "      <td>Correct</td>\n",
       "      <td>100.0</td>\n",
       "      <td>The generated answer exactly aligns with the r...</td>\n",
       "      <td>High</td>\n",
       "      <td>High</td>\n",
       "    </tr>\n",
       "    <tr>\n",
       "      <th>2</th>\n",
       "      <td>How much is Omorovicza Ultramoor Mud Mask 50ml?</td>\n",
       "      <td>£74.00</td>\n",
       "      <td>The Omorovicza Ultramoor Mud Mask 50ml costs £...</td>\n",
       "      <td>3.067537</td>\n",
       "      <td>Correct</td>\n",
       "      <td>100.0</td>\n",
       "      <td>The generated answer aligns completely with th...</td>\n",
       "      <td>High</td>\n",
       "      <td>High</td>\n",
       "    </tr>\n",
       "    <tr>\n",
       "      <th>3</th>\n",
       "      <td>How much is Glow Hub Tinted Sun Silk SPF 30 50...</td>\n",
       "      <td>£11.20</td>\n",
       "      <td>The Glow Hub Tinted Sun Silk SPF 30 50ml (Vari...</td>\n",
       "      <td>3.229802</td>\n",
       "      <td>Correct</td>\n",
       "      <td>100.0</td>\n",
       "      <td>The generated answer accurately states the pri...</td>\n",
       "      <td>High</td>\n",
       "      <td>High</td>\n",
       "    </tr>\n",
       "    <tr>\n",
       "      <th>4</th>\n",
       "      <td>How much is The INKEY List Salicylic Acid Clea...</td>\n",
       "      <td>£7.50</td>\n",
       "      <td>I am sorry, but the price for The INKEY List S...</td>\n",
       "      <td>3.845458</td>\n",
       "      <td>Incorrect</td>\n",
       "      <td>30.0</td>\n",
       "      <td>The generated answer does not align with the r...</td>\n",
       "      <td>Low</td>\n",
       "      <td>Low</td>\n",
       "    </tr>\n",
       "    <tr>\n",
       "      <th>...</th>\n",
       "      <td>...</td>\n",
       "      <td>...</td>\n",
       "      <td>...</td>\n",
       "      <td>...</td>\n",
       "      <td>...</td>\n",
       "      <td>...</td>\n",
       "      <td>...</td>\n",
       "      <td>...</td>\n",
       "      <td>...</td>\n",
       "    </tr>\n",
       "    <tr>\n",
       "      <th>3359</th>\n",
       "      <td>How much is OTO 750mg CBD Ritual Day Cream 30ml?</td>\n",
       "      <td>£31.85</td>\n",
       "      <td>I am sorry, I cannot provide the price of OTO ...</td>\n",
       "      <td>3.491231</td>\n",
       "      <td>Incorrect</td>\n",
       "      <td>0.0</td>\n",
       "      <td>The generated answer does not provide the pric...</td>\n",
       "      <td>Low</td>\n",
       "      <td>Low</td>\n",
       "    </tr>\n",
       "    <tr>\n",
       "      <th>3360</th>\n",
       "      <td>How much is VERSO Clarifying Gel 1 oz?</td>\n",
       "      <td>£59.50</td>\n",
       "      <td>VERSO Clarifying Gel 1 oz costs either £59.50 ...</td>\n",
       "      <td>3.223497</td>\n",
       "      <td>Partially Correct</td>\n",
       "      <td>75.0</td>\n",
       "      <td>The generated answer includes the correct pric...</td>\n",
       "      <td>Medium</td>\n",
       "      <td>Medium</td>\n",
       "    </tr>\n",
       "    <tr>\n",
       "      <th>3361</th>\n",
       "      <td>How much is Fenty Skin Hydra Vizor Broad Spect...</td>\n",
       "      <td>£35.00</td>\n",
       "      <td>The Fenty Skin Hydra Vizor Broad Spectrum Mine...</td>\n",
       "      <td>3.346832</td>\n",
       "      <td>Correct</td>\n",
       "      <td>100.0</td>\n",
       "      <td>The generated answer accurately aligns with th...</td>\n",
       "      <td>High</td>\n",
       "      <td>High</td>\n",
       "    </tr>\n",
       "    <tr>\n",
       "      <th>3362</th>\n",
       "      <td>How much is PURITO Galacto Niacin 97 Power Ess...</td>\n",
       "      <td>£22.90</td>\n",
       "      <td>The PURITO Galacto Niacin 97 Power Essence 60m...</td>\n",
       "      <td>3.713886</td>\n",
       "      <td>Correct</td>\n",
       "      <td>100.0</td>\n",
       "      <td>The generated answer correctly states the pric...</td>\n",
       "      <td>High</td>\n",
       "      <td>High</td>\n",
       "    </tr>\n",
       "    <tr>\n",
       "      <th>3363</th>\n",
       "      <td>How much is Neutrogena Hydro Boost Triple Mice...</td>\n",
       "      <td>£8.20</td>\n",
       "      <td>Neutrogena Hydro Boost Triple Micellar Water 4...</td>\n",
       "      <td>3.441165</td>\n",
       "      <td>Correct</td>\n",
       "      <td>100.0</td>\n",
       "      <td>The generated answer accurately aligns with th...</td>\n",
       "      <td>High</td>\n",
       "      <td>High</td>\n",
       "    </tr>\n",
       "  </tbody>\n",
       "</table>\n",
       "<p>776 rows × 9 columns</p>\n",
       "</div>"
      ],
      "text/plain": [
       "                                               Question  Answer  \\\n",
       "0     How much is By Terry Cellularose CC Serum 30ml...  £62.00   \n",
       "1     How much is La Roche-Posay Effaclar Duo+M Anti...  £20.90   \n",
       "2       How much is Omorovicza Ultramoor Mud Mask 50ml?  £74.00   \n",
       "3     How much is Glow Hub Tinted Sun Silk SPF 30 50...  £11.20   \n",
       "4     How much is The INKEY List Salicylic Acid Clea...   £7.50   \n",
       "...                                                 ...     ...   \n",
       "3359   How much is OTO 750mg CBD Ritual Day Cream 30ml?  £31.85   \n",
       "3360             How much is VERSO Clarifying Gel 1 oz?  £59.50   \n",
       "3361  How much is Fenty Skin Hydra Vizor Broad Spect...  £35.00   \n",
       "3362  How much is PURITO Galacto Niacin 97 Power Ess...  £22.90   \n",
       "3363  How much is Neutrogena Hydro Boost Triple Mice...   £8.20   \n",
       "\n",
       "                                       Generated_Answer  Response_Time  \\\n",
       "0     The By Terry Cellularose CC Serum 30ml (Variou...       3.643538   \n",
       "1     The La Roche-Posay Effaclar Duo+M Anti-Blemish...       3.625927   \n",
       "2     The Omorovicza Ultramoor Mud Mask 50ml costs £...       3.067537   \n",
       "3     The Glow Hub Tinted Sun Silk SPF 30 50ml (Vari...       3.229802   \n",
       "4     I am sorry, but the price for The INKEY List S...       3.845458   \n",
       "...                                                 ...            ...   \n",
       "3359  I am sorry, I cannot provide the price of OTO ...       3.491231   \n",
       "3360  VERSO Clarifying Gel 1 oz costs either £59.50 ...       3.223497   \n",
       "3361  The Fenty Skin Hydra Vizor Broad Spectrum Mine...       3.346832   \n",
       "3362  The PURITO Galacto Niacin 97 Power Essence 60m...       3.713886   \n",
       "3363  Neutrogena Hydro Boost Triple Micellar Water 4...       3.441165   \n",
       "\n",
       "                Verdict  Score  \\\n",
       "0               Correct  100.0   \n",
       "1               Correct  100.0   \n",
       "2               Correct  100.0   \n",
       "3               Correct  100.0   \n",
       "4             Incorrect   30.0   \n",
       "...                 ...    ...   \n",
       "3359          Incorrect    0.0   \n",
       "3360  Partially Correct   75.0   \n",
       "3361            Correct  100.0   \n",
       "3362            Correct  100.0   \n",
       "3363            Correct  100.0   \n",
       "\n",
       "                                            Explanation Accuracy Relevance  \n",
       "0     The generated answer accurately aligns with th...     High      High  \n",
       "1     The generated answer exactly aligns with the r...     High      High  \n",
       "2     The generated answer aligns completely with th...     High      High  \n",
       "3     The generated answer accurately states the pri...     High      High  \n",
       "4     The generated answer does not align with the r...      Low       Low  \n",
       "...                                                 ...      ...       ...  \n",
       "3359  The generated answer does not provide the pric...      Low       Low  \n",
       "3360  The generated answer includes the correct pric...   Medium    Medium  \n",
       "3361  The generated answer accurately aligns with th...     High      High  \n",
       "3362  The generated answer correctly states the pric...     High      High  \n",
       "3363  The generated answer accurately aligns with th...     High      High  \n",
       "\n",
       "[776 rows x 9 columns]"
      ]
     },
     "execution_count": 32,
     "metadata": {},
     "output_type": "execute_result"
    }
   ],
   "source": [
    "df = pd.concat([df1, df2, df3, df4, df5, df6,df7])\n",
    "df"
   ]
  },
  {
   "cell_type": "code",
   "execution_count": null,
   "id": "9cecbcf0",
   "metadata": {},
   "outputs": [],
   "source": [
    "# df.to_csv(r'/home/jasmine/Documents/Study/DATN/code/qa-cosmetics-model/evaluate/result/tdcosmetics/final/neo4j_products_price.csv', index=False)\n",
    "df = pd.read_csv(r'/home/jasmine/Documents/Study/DATN/code/qa-cosmetics-model/evaluate/result/tdcosmetics/final/neo4j_products_price.csv')"
   ]
  },
  {
   "cell_type": "code",
   "execution_count": 34,
   "id": "123ace93",
   "metadata": {},
   "outputs": [],
   "source": [
    "df[df['Score'] < 70][['Question', 'Answer']].to_csv('/home/jasmine/Documents/Study/DATN/code/qa-cosmetics-model/evaluate/result/tdcosmetics/final/neo4j_products_price_errors.csv')"
   ]
  },
  {
   "cell_type": "code",
   "execution_count": 35,
   "id": "18b197e1",
   "metadata": {},
   "outputs": [],
   "source": [
    "df_errors = pd.read_csv('/home/jasmine/Documents/Study/DATN/code/qa-cosmetics-model/evaluate/result/tdcosmetics/final/neo4j_products_price_errors.csv')"
   ]
  },
  {
   "cell_type": "code",
   "execution_count": 36,
   "id": "90e55cab",
   "metadata": {},
   "outputs": [
    {
     "data": {
      "text/html": [
       "<div>\n",
       "<style scoped>\n",
       "    .dataframe tbody tr th:only-of-type {\n",
       "        vertical-align: middle;\n",
       "    }\n",
       "\n",
       "    .dataframe tbody tr th {\n",
       "        vertical-align: top;\n",
       "    }\n",
       "\n",
       "    .dataframe thead th {\n",
       "        text-align: right;\n",
       "    }\n",
       "</style>\n",
       "<table border=\"1\" class=\"dataframe\">\n",
       "  <thead>\n",
       "    <tr style=\"text-align: right;\">\n",
       "      <th></th>\n",
       "      <th>Question</th>\n",
       "      <th>Answer</th>\n",
       "      <th>Generated_Answer</th>\n",
       "      <th>Response_Time</th>\n",
       "      <th>Verdict</th>\n",
       "      <th>Score</th>\n",
       "      <th>Explanation</th>\n",
       "      <th>Accuracy</th>\n",
       "      <th>Relevance</th>\n",
       "    </tr>\n",
       "  </thead>\n",
       "  <tbody>\n",
       "    <tr>\n",
       "      <th>0</th>\n",
       "      <td>How much is By Terry Cellularose CC Serum 30ml...</td>\n",
       "      <td>£62.00</td>\n",
       "      <td>The By Terry Cellularose CC Serum 30ml (Variou...</td>\n",
       "      <td>3.643538</td>\n",
       "      <td>Correct</td>\n",
       "      <td>100.0</td>\n",
       "      <td>The generated answer accurately aligns with th...</td>\n",
       "      <td>High</td>\n",
       "      <td>High</td>\n",
       "    </tr>\n",
       "    <tr>\n",
       "      <th>1</th>\n",
       "      <td>How much is La Roche-Posay Effaclar Duo+M Anti...</td>\n",
       "      <td>£20.90</td>\n",
       "      <td>The La Roche-Posay Effaclar Duo+M Anti-Blemish...</td>\n",
       "      <td>3.625927</td>\n",
       "      <td>Correct</td>\n",
       "      <td>100.0</td>\n",
       "      <td>The generated answer exactly aligns with the r...</td>\n",
       "      <td>High</td>\n",
       "      <td>High</td>\n",
       "    </tr>\n",
       "    <tr>\n",
       "      <th>2</th>\n",
       "      <td>How much is Omorovicza Ultramoor Mud Mask 50ml?</td>\n",
       "      <td>£74.00</td>\n",
       "      <td>The Omorovicza Ultramoor Mud Mask 50ml costs £...</td>\n",
       "      <td>3.067537</td>\n",
       "      <td>Correct</td>\n",
       "      <td>100.0</td>\n",
       "      <td>The generated answer aligns completely with th...</td>\n",
       "      <td>High</td>\n",
       "      <td>High</td>\n",
       "    </tr>\n",
       "    <tr>\n",
       "      <th>3</th>\n",
       "      <td>How much is Glow Hub Tinted Sun Silk SPF 30 50...</td>\n",
       "      <td>£11.20</td>\n",
       "      <td>The Glow Hub Tinted Sun Silk SPF 30 50ml (Vari...</td>\n",
       "      <td>3.229802</td>\n",
       "      <td>Correct</td>\n",
       "      <td>100.0</td>\n",
       "      <td>The generated answer accurately states the pri...</td>\n",
       "      <td>High</td>\n",
       "      <td>High</td>\n",
       "    </tr>\n",
       "    <tr>\n",
       "      <th>8</th>\n",
       "      <td>How much is bareMinerals Pure Plush Cleansing ...</td>\n",
       "      <td>£22.00</td>\n",
       "      <td>The bareMinerals Pure Plush Cleansing Foam cos...</td>\n",
       "      <td>3.020453</td>\n",
       "      <td>Correct</td>\n",
       "      <td>100.0</td>\n",
       "      <td>The generated answer directly aligns with the ...</td>\n",
       "      <td>High</td>\n",
       "      <td>High</td>\n",
       "    </tr>\n",
       "    <tr>\n",
       "      <th>...</th>\n",
       "      <td>...</td>\n",
       "      <td>...</td>\n",
       "      <td>...</td>\n",
       "      <td>...</td>\n",
       "      <td>...</td>\n",
       "      <td>...</td>\n",
       "      <td>...</td>\n",
       "      <td>...</td>\n",
       "      <td>...</td>\n",
       "    </tr>\n",
       "    <tr>\n",
       "      <th>3358</th>\n",
       "      <td>How much is NUXE Reve de Miel Deliciously Nour...</td>\n",
       "      <td>£17.60</td>\n",
       "      <td>The NUXE Reve de Miel Deliciously Nourishing B...</td>\n",
       "      <td>2.965712</td>\n",
       "      <td>Correct</td>\n",
       "      <td>100.0</td>\n",
       "      <td>The generated answer correctly states the pric...</td>\n",
       "      <td>High</td>\n",
       "      <td>High</td>\n",
       "    </tr>\n",
       "    <tr>\n",
       "      <th>3360</th>\n",
       "      <td>How much is VERSO Clarifying Gel 1 oz?</td>\n",
       "      <td>£59.50</td>\n",
       "      <td>VERSO Clarifying Gel 1 oz costs either £59.50 ...</td>\n",
       "      <td>3.223497</td>\n",
       "      <td>Partially Correct</td>\n",
       "      <td>75.0</td>\n",
       "      <td>The generated answer includes the correct pric...</td>\n",
       "      <td>Medium</td>\n",
       "      <td>Medium</td>\n",
       "    </tr>\n",
       "    <tr>\n",
       "      <th>3361</th>\n",
       "      <td>How much is Fenty Skin Hydra Vizor Broad Spect...</td>\n",
       "      <td>£35.00</td>\n",
       "      <td>The Fenty Skin Hydra Vizor Broad Spectrum Mine...</td>\n",
       "      <td>3.346832</td>\n",
       "      <td>Correct</td>\n",
       "      <td>100.0</td>\n",
       "      <td>The generated answer accurately aligns with th...</td>\n",
       "      <td>High</td>\n",
       "      <td>High</td>\n",
       "    </tr>\n",
       "    <tr>\n",
       "      <th>3362</th>\n",
       "      <td>How much is PURITO Galacto Niacin 97 Power Ess...</td>\n",
       "      <td>£22.90</td>\n",
       "      <td>The PURITO Galacto Niacin 97 Power Essence 60m...</td>\n",
       "      <td>3.713886</td>\n",
       "      <td>Correct</td>\n",
       "      <td>100.0</td>\n",
       "      <td>The generated answer correctly states the pric...</td>\n",
       "      <td>High</td>\n",
       "      <td>High</td>\n",
       "    </tr>\n",
       "    <tr>\n",
       "      <th>3363</th>\n",
       "      <td>How much is Neutrogena Hydro Boost Triple Mice...</td>\n",
       "      <td>£8.20</td>\n",
       "      <td>Neutrogena Hydro Boost Triple Micellar Water 4...</td>\n",
       "      <td>3.441165</td>\n",
       "      <td>Correct</td>\n",
       "      <td>100.0</td>\n",
       "      <td>The generated answer accurately aligns with th...</td>\n",
       "      <td>High</td>\n",
       "      <td>High</td>\n",
       "    </tr>\n",
       "  </tbody>\n",
       "</table>\n",
       "<p>620 rows × 9 columns</p>\n",
       "</div>"
      ],
      "text/plain": [
       "                                               Question  Answer  \\\n",
       "0     How much is By Terry Cellularose CC Serum 30ml...  £62.00   \n",
       "1     How much is La Roche-Posay Effaclar Duo+M Anti...  £20.90   \n",
       "2       How much is Omorovicza Ultramoor Mud Mask 50ml?  £74.00   \n",
       "3     How much is Glow Hub Tinted Sun Silk SPF 30 50...  £11.20   \n",
       "8     How much is bareMinerals Pure Plush Cleansing ...  £22.00   \n",
       "...                                                 ...     ...   \n",
       "3358  How much is NUXE Reve de Miel Deliciously Nour...  £17.60   \n",
       "3360             How much is VERSO Clarifying Gel 1 oz?  £59.50   \n",
       "3361  How much is Fenty Skin Hydra Vizor Broad Spect...  £35.00   \n",
       "3362  How much is PURITO Galacto Niacin 97 Power Ess...  £22.90   \n",
       "3363  How much is Neutrogena Hydro Boost Triple Mice...   £8.20   \n",
       "\n",
       "                                       Generated_Answer  Response_Time  \\\n",
       "0     The By Terry Cellularose CC Serum 30ml (Variou...       3.643538   \n",
       "1     The La Roche-Posay Effaclar Duo+M Anti-Blemish...       3.625927   \n",
       "2     The Omorovicza Ultramoor Mud Mask 50ml costs £...       3.067537   \n",
       "3     The Glow Hub Tinted Sun Silk SPF 30 50ml (Vari...       3.229802   \n",
       "8     The bareMinerals Pure Plush Cleansing Foam cos...       3.020453   \n",
       "...                                                 ...            ...   \n",
       "3358  The NUXE Reve de Miel Deliciously Nourishing B...       2.965712   \n",
       "3360  VERSO Clarifying Gel 1 oz costs either £59.50 ...       3.223497   \n",
       "3361  The Fenty Skin Hydra Vizor Broad Spectrum Mine...       3.346832   \n",
       "3362  The PURITO Galacto Niacin 97 Power Essence 60m...       3.713886   \n",
       "3363  Neutrogena Hydro Boost Triple Micellar Water 4...       3.441165   \n",
       "\n",
       "                Verdict  Score  \\\n",
       "0               Correct  100.0   \n",
       "1               Correct  100.0   \n",
       "2               Correct  100.0   \n",
       "3               Correct  100.0   \n",
       "8               Correct  100.0   \n",
       "...                 ...    ...   \n",
       "3358            Correct  100.0   \n",
       "3360  Partially Correct   75.0   \n",
       "3361            Correct  100.0   \n",
       "3362            Correct  100.0   \n",
       "3363            Correct  100.0   \n",
       "\n",
       "                                            Explanation Accuracy Relevance  \n",
       "0     The generated answer accurately aligns with th...     High      High  \n",
       "1     The generated answer exactly aligns with the r...     High      High  \n",
       "2     The generated answer aligns completely with th...     High      High  \n",
       "3     The generated answer accurately states the pri...     High      High  \n",
       "8     The generated answer directly aligns with the ...     High      High  \n",
       "...                                                 ...      ...       ...  \n",
       "3358  The generated answer correctly states the pric...     High      High  \n",
       "3360  The generated answer includes the correct pric...   Medium    Medium  \n",
       "3361  The generated answer accurately aligns with th...     High      High  \n",
       "3362  The generated answer correctly states the pric...     High      High  \n",
       "3363  The generated answer accurately aligns with th...     High      High  \n",
       "\n",
       "[620 rows x 9 columns]"
      ]
     },
     "execution_count": 36,
     "metadata": {},
     "output_type": "execute_result"
    }
   ],
   "source": [
    "indexes_error = df_errors['Unnamed: 0']\n",
    "df_update = df_errors.drop(columns=['Unnamed: 0'])\n",
    "\n",
    "df_update = df_update[df.columns]\n",
    "df.loc[indexes_error] = df_update\n",
    "df = df[df['Score'].notna()]\n",
    "df.loc[~df.index.isin(indexes_error)]"
   ]
  },
  {
   "cell_type": "code",
   "execution_count": 38,
   "id": "1e4e88d0",
   "metadata": {},
   "outputs": [
    {
     "data": {
      "text/plain": [
       "0.9937007874015747"
      ]
     },
     "execution_count": 38,
     "metadata": {},
     "output_type": "execute_result"
    }
   ],
   "source": [
    "len(df[df['Score'] > 70]) / len(df)"
   ]
  },
  {
   "cell_type": "markdown",
   "id": "30130c63",
   "metadata": {},
   "source": [
    "# Ingredient Data"
   ]
  },
  {
   "cell_type": "markdown",
   "id": "ae0fe06a",
   "metadata": {},
   "source": [
    "## Harmful"
   ]
  },
  {
   "cell_type": "code",
   "execution_count": 59,
   "id": "8d509888",
   "metadata": {},
   "outputs": [],
   "source": [
    "df = pd.read_csv(r'result/tdcosmetics/neo4j/product_triplets/neo4j_products_harmful_ingredients.csv')\n",
    "df1 = df = pd.read_csv(r'result/tdcosmetics/neo4j/product_triplets/neo4j_products_harmful_ingredients 1.csv')\n",
    "df2 = df = pd.read_csv(r'result/tdcosmetics/neo4j/product_triplets/neo4j_products_harmful_ingredients 2.csv')\n",
    "df3 = df = pd.read_csv(r'result/tdcosmetics/neo4j/product_triplets/neo4j_products_harmful_ingredients 3.csv')\n",
    "df4 = df = pd.read_csv(r'result/tdcosmetics/neo4j/product_triplets/neo4j_products_harmful_ingredients 4.csv')\n",
    "df5 = df = pd.read_csv(r'result/tdcosmetics/neo4j/product_triplets/neo4j_products_harmful_ingredients 5.csv')\n",
    "df6 = df = pd.read_csv(r'result/tdcosmetics/neo4j/product_triplets/neo4j_products_harmful_ingredients 6.csv')"
   ]
  },
  {
   "cell_type": "code",
   "execution_count": 60,
   "id": "2a985c19",
   "metadata": {},
   "outputs": [],
   "source": [
    "df = df[df['Score'].notna()]\n",
    "df1 = df1[df1['Score'].notna()]\n",
    "df2 = df2[df2['Score'].notna()]\n",
    "df3 = df3[df3['Score'].notna()]     \n",
    "df4 = df4[df4['Score'].notna()]\n",
    "df5 = df5[df5['Score'].notna()]\n",
    "df6 = df6[df6['Score'].notna()]"
   ]
  },
  {
   "cell_type": "code",
   "execution_count": 61,
   "id": "cb5aec43",
   "metadata": {},
   "outputs": [],
   "source": [
    "df = pd.concat([df, df1, df2, df3, df4, df5])\n",
    "df = df.drop_duplicates(subset=['Question', 'Answer'], keep='first')"
   ]
  },
  {
   "cell_type": "code",
   "execution_count": 62,
   "id": "5ae1180a",
   "metadata": {},
   "outputs": [
    {
     "data": {
      "text/plain": [
       "Score\n",
       "100.0    258\n",
       "70.0      29\n",
       "85.0       6\n",
       "80.0       5\n",
       "60.0       3\n",
       "20.0       1\n",
       "40.0       1\n",
       "Name: count, dtype: int64"
      ]
     },
     "execution_count": 62,
     "metadata": {},
     "output_type": "execute_result"
    }
   ],
   "source": [
    "df['Score'].value_counts()"
   ]
  },
  {
   "cell_type": "code",
   "execution_count": 63,
   "id": "04246add",
   "metadata": {},
   "outputs": [
    {
     "data": {
      "text/plain": [
       "0.9834983498349835"
      ]
     },
     "execution_count": 63,
     "metadata": {},
     "output_type": "execute_result"
    }
   ],
   "source": [
    "len(df[df['Score'] >= 70]) / len(df)"
   ]
  },
  {
   "cell_type": "code",
   "execution_count": 64,
   "id": "3163554c",
   "metadata": {},
   "outputs": [],
   "source": [
    "df.to_csv(r'result/tdcosmetics/neo4j/product_triplets/products_harmful_ingredients.csv', index=False)"
   ]
  },
  {
   "cell_type": "markdown",
   "id": "327f2cc6",
   "metadata": {},
   "source": [
    "## Positive"
   ]
  },
  {
   "cell_type": "code",
   "execution_count": 54,
   "id": "15ff79a4",
   "metadata": {},
   "outputs": [
    {
     "data": {
      "text/plain": [
       "0.9003792298716453"
      ]
     },
     "execution_count": 54,
     "metadata": {},
     "output_type": "execute_result"
    }
   ],
   "source": [
    "df = pd.read_csv(r'result/tdcosmetics/neo4j/product_triplets/neo4j_products_positive_ingredients.csv')\n",
    "len(df[df['Score'] >= 70]) / len(df)"
   ]
  },
  {
   "cell_type": "code",
   "execution_count": 55,
   "id": "f6a2d8dd",
   "metadata": {},
   "outputs": [
    {
     "data": {
      "text/html": [
       "<div>\n",
       "<style scoped>\n",
       "    .dataframe tbody tr th:only-of-type {\n",
       "        vertical-align: middle;\n",
       "    }\n",
       "\n",
       "    .dataframe tbody tr th {\n",
       "        vertical-align: top;\n",
       "    }\n",
       "\n",
       "    .dataframe thead th {\n",
       "        text-align: right;\n",
       "    }\n",
       "</style>\n",
       "<table border=\"1\" class=\"dataframe\">\n",
       "  <thead>\n",
       "    <tr style=\"text-align: right;\">\n",
       "      <th></th>\n",
       "      <th>Question</th>\n",
       "      <th>Answer</th>\n",
       "      <th>Generated_Answer</th>\n",
       "      <th>Response_Time</th>\n",
       "      <th>Verdict</th>\n",
       "      <th>Score</th>\n",
       "      <th>Explanation</th>\n",
       "      <th>Accuracy</th>\n",
       "      <th>Relevance</th>\n",
       "    </tr>\n",
       "  </thead>\n",
       "  <tbody>\n",
       "    <tr>\n",
       "      <th>0</th>\n",
       "      <td>What are the positive ingredients in La Roche-...</td>\n",
       "      <td>Glycerin, Glycerin, Pentylene Glycol, Citric A...</td>\n",
       "      <td>The La Roche-Posay Effaclar Duo+M Anti-Blemish...</td>\n",
       "      <td>14.358537</td>\n",
       "      <td>Partially Correct</td>\n",
       "      <td>70.0</td>\n",
       "      <td>The generated answer lists ingredients found i...</td>\n",
       "      <td>Medium</td>\n",
       "      <td>High</td>\n",
       "    </tr>\n",
       "    <tr>\n",
       "      <th>3</th>\n",
       "      <td>What are the positive ingredients in Omorovicz...</td>\n",
       "      <td>Glycerin (Moisturising: Hydrates the skin; Sof...</td>\n",
       "      <td>The Omorovicza Ultramoor Mud Mask 50ml contain...</td>\n",
       "      <td>5.901982</td>\n",
       "      <td>Partially Correct</td>\n",
       "      <td>70.0</td>\n",
       "      <td>The generated answer provides a list of ingred...</td>\n",
       "      <td>Medium</td>\n",
       "      <td>Medium</td>\n",
       "    </tr>\n",
       "    <tr>\n",
       "      <th>12</th>\n",
       "      <td>What are the positive ingredients in bareMiner...</td>\n",
       "      <td>Glycerin, Glycerin, Sodium Benzoate, Phenoxyet...</td>\n",
       "      <td>The bareMinerals Pure Plush Cleansing Foam con...</td>\n",
       "      <td>4.704140</td>\n",
       "      <td>Partially Correct</td>\n",
       "      <td>70.0</td>\n",
       "      <td>The generated answer lists ingredients from th...</td>\n",
       "      <td>Medium</td>\n",
       "      <td>Medium</td>\n",
       "    </tr>\n",
       "    <tr>\n",
       "      <th>19</th>\n",
       "      <td>What are the positive ingredients in Pai Skinc...</td>\n",
       "      <td>Limonene* (Antiseptic: Kills bacteria) \\n</td>\n",
       "      <td>The Pai Skincare Light Work Rosehip Cleansing ...</td>\n",
       "      <td>5.598597</td>\n",
       "      <td>Partially Correct</td>\n",
       "      <td>70.0</td>\n",
       "      <td>The generated answer correctly identifies Limo...</td>\n",
       "      <td>Medium</td>\n",
       "      <td>High</td>\n",
       "    </tr>\n",
       "    <tr>\n",
       "      <th>21</th>\n",
       "      <td>What are the positive ingredients in Kiehl's U...</td>\n",
       "      <td>Glycerin, Glycerin, Carbomer, Citric Acid, Cit...</td>\n",
       "      <td>The Kiehl's Ultra Facial Masque 100g contains ...</td>\n",
       "      <td>4.774029</td>\n",
       "      <td>Partially Correct</td>\n",
       "      <td>70.0</td>\n",
       "      <td>The generated answer lists ingredients from th...</td>\n",
       "      <td>Medium</td>\n",
       "      <td>High</td>\n",
       "    </tr>\n",
       "    <tr>\n",
       "      <th>...</th>\n",
       "      <td>...</td>\n",
       "      <td>...</td>\n",
       "      <td>...</td>\n",
       "      <td>...</td>\n",
       "      <td>...</td>\n",
       "      <td>...</td>\n",
       "      <td>...</td>\n",
       "      <td>...</td>\n",
       "      <td>...</td>\n",
       "    </tr>\n",
       "    <tr>\n",
       "      <th>6805</th>\n",
       "      <td>What are the positive ingredients in Bobbi Bro...</td>\n",
       "      <td>Glycerin (Moisturising: Hydrates the skin; Sof...</td>\n",
       "      <td>The Bobbi Brown Vitamin Enriched Starter Set c...</td>\n",
       "      <td>7.400430</td>\n",
       "      <td>Partially Correct</td>\n",
       "      <td>70.0</td>\n",
       "      <td>The generated answer is mostly correct in iden...</td>\n",
       "      <td>Medium</td>\n",
       "      <td>High</td>\n",
       "    </tr>\n",
       "    <tr>\n",
       "      <th>6826</th>\n",
       "      <td>What are the positive ingredients in FaceGym A...</td>\n",
       "      <td>Glycerin, Glycerin, Pentylene Glycol, Sodium H...</td>\n",
       "      <td>Here are the ingredients in FaceGym Active Col...</td>\n",
       "      <td>4.692473</td>\n",
       "      <td>Partially Correct</td>\n",
       "      <td>70.0</td>\n",
       "      <td>The generated answer lists ingredients from th...</td>\n",
       "      <td>Medium</td>\n",
       "      <td>Medium</td>\n",
       "    </tr>\n",
       "    <tr>\n",
       "      <th>6845</th>\n",
       "      <td>What are the positive ingredients in Perricone...</td>\n",
       "      <td>Glycerin (Moisturising: Hydrates the skin; Sof...</td>\n",
       "      <td>The Perricone MD Vitamin C Ester CCC + Ferulic...</td>\n",
       "      <td>8.068485</td>\n",
       "      <td>Partially Correct</td>\n",
       "      <td>70.0</td>\n",
       "      <td>The generated answer is mostly correct, as it ...</td>\n",
       "      <td>Medium</td>\n",
       "      <td>High</td>\n",
       "    </tr>\n",
       "    <tr>\n",
       "      <th>6849</th>\n",
       "      <td>What are the positive ingredients in Caudalie ...</td>\n",
       "      <td>Glycerin (Moisturising: Hydrates the skin; Sof...</td>\n",
       "      <td>The Caudalie Premier Cru The Rich Cream Refill...</td>\n",
       "      <td>6.566693</td>\n",
       "      <td>Partially Correct</td>\n",
       "      <td>70.0</td>\n",
       "      <td>The generated answer is partially correct beca...</td>\n",
       "      <td>Medium</td>\n",
       "      <td>High</td>\n",
       "    </tr>\n",
       "    <tr>\n",
       "      <th>6851</th>\n",
       "      <td>What are the positive ingredients in Neutrogen...</td>\n",
       "      <td>Glycerin (Moisturising: Hydrates the skin; Sof...</td>\n",
       "      <td>The Neutrogena Hydrate and Protect Bundle cont...</td>\n",
       "      <td>4.774376</td>\n",
       "      <td>Partially Correct</td>\n",
       "      <td>70.0</td>\n",
       "      <td>The generated answer mentions Hyaluronic Acid ...</td>\n",
       "      <td>Medium</td>\n",
       "      <td>Medium</td>\n",
       "    </tr>\n",
       "  </tbody>\n",
       "</table>\n",
       "<p>981 rows × 9 columns</p>\n",
       "</div>"
      ],
      "text/plain": [
       "                                               Question  \\\n",
       "0     What are the positive ingredients in La Roche-...   \n",
       "3     What are the positive ingredients in Omorovicz...   \n",
       "12    What are the positive ingredients in bareMiner...   \n",
       "19    What are the positive ingredients in Pai Skinc...   \n",
       "21    What are the positive ingredients in Kiehl's U...   \n",
       "...                                                 ...   \n",
       "6805  What are the positive ingredients in Bobbi Bro...   \n",
       "6826  What are the positive ingredients in FaceGym A...   \n",
       "6845  What are the positive ingredients in Perricone...   \n",
       "6849  What are the positive ingredients in Caudalie ...   \n",
       "6851  What are the positive ingredients in Neutrogen...   \n",
       "\n",
       "                                                 Answer  \\\n",
       "0     Glycerin, Glycerin, Pentylene Glycol, Citric A...   \n",
       "3     Glycerin (Moisturising: Hydrates the skin; Sof...   \n",
       "12    Glycerin, Glycerin, Sodium Benzoate, Phenoxyet...   \n",
       "19            Limonene* (Antiseptic: Kills bacteria) \\n   \n",
       "21    Glycerin, Glycerin, Carbomer, Citric Acid, Cit...   \n",
       "...                                                 ...   \n",
       "6805  Glycerin (Moisturising: Hydrates the skin; Sof...   \n",
       "6826  Glycerin, Glycerin, Pentylene Glycol, Sodium H...   \n",
       "6845  Glycerin (Moisturising: Hydrates the skin; Sof...   \n",
       "6849  Glycerin (Moisturising: Hydrates the skin; Sof...   \n",
       "6851  Glycerin (Moisturising: Hydrates the skin; Sof...   \n",
       "\n",
       "                                       Generated_Answer  Response_Time  \\\n",
       "0     The La Roche-Posay Effaclar Duo+M Anti-Blemish...      14.358537   \n",
       "3     The Omorovicza Ultramoor Mud Mask 50ml contain...       5.901982   \n",
       "12    The bareMinerals Pure Plush Cleansing Foam con...       4.704140   \n",
       "19    The Pai Skincare Light Work Rosehip Cleansing ...       5.598597   \n",
       "21    The Kiehl's Ultra Facial Masque 100g contains ...       4.774029   \n",
       "...                                                 ...            ...   \n",
       "6805  The Bobbi Brown Vitamin Enriched Starter Set c...       7.400430   \n",
       "6826  Here are the ingredients in FaceGym Active Col...       4.692473   \n",
       "6845  The Perricone MD Vitamin C Ester CCC + Ferulic...       8.068485   \n",
       "6849  The Caudalie Premier Cru The Rich Cream Refill...       6.566693   \n",
       "6851  The Neutrogena Hydrate and Protect Bundle cont...       4.774376   \n",
       "\n",
       "                Verdict  Score  \\\n",
       "0     Partially Correct   70.0   \n",
       "3     Partially Correct   70.0   \n",
       "12    Partially Correct   70.0   \n",
       "19    Partially Correct   70.0   \n",
       "21    Partially Correct   70.0   \n",
       "...                 ...    ...   \n",
       "6805  Partially Correct   70.0   \n",
       "6826  Partially Correct   70.0   \n",
       "6845  Partially Correct   70.0   \n",
       "6849  Partially Correct   70.0   \n",
       "6851  Partially Correct   70.0   \n",
       "\n",
       "                                            Explanation Accuracy Relevance  \n",
       "0     The generated answer lists ingredients found i...   Medium      High  \n",
       "3     The generated answer provides a list of ingred...   Medium    Medium  \n",
       "12    The generated answer lists ingredients from th...   Medium    Medium  \n",
       "19    The generated answer correctly identifies Limo...   Medium      High  \n",
       "21    The generated answer lists ingredients from th...   Medium      High  \n",
       "...                                                 ...      ...       ...  \n",
       "6805  The generated answer is mostly correct in iden...   Medium      High  \n",
       "6826  The generated answer lists ingredients from th...   Medium    Medium  \n",
       "6845  The generated answer is mostly correct, as it ...   Medium      High  \n",
       "6849  The generated answer is partially correct beca...   Medium      High  \n",
       "6851  The generated answer mentions Hyaluronic Acid ...   Medium    Medium  \n",
       "\n",
       "[981 rows x 9 columns]"
      ]
     },
     "execution_count": 55,
     "metadata": {},
     "output_type": "execute_result"
    }
   ],
   "source": [
    "df[df['Score'] == 70]"
   ]
  },
  {
   "cell_type": "code",
   "execution_count": 58,
   "id": "0e9453de",
   "metadata": {},
   "outputs": [
    {
     "name": "stdout",
     "output_type": "stream",
     "text": [
      "Question: What are the positive ingredients in La Roche-Posay Effaclar Duo+M Anti-Blemish Corrective Gel Moisturiser for Oily, Blemish-Prone Skin 40ml?\n",
      "Correct Answer: Glycerin, Glycerin, Pentylene Glycol, Citric Acid, Citric Acid, Caprylyl Glycol, Propanediol, Dimethicone, Isohexadecane, Niacinamide, Niacinamide, Xanthan Gum, Xanthan Gum, Potassium Cetyl Phosphate, Myristyl Myristate, Glyceryl Stearate Se, Salicylic Acid, Salicylic Acid, Sorbitan Oleate, Zinc PCA, Zinc PCA, Zinc PCA, Isocetyl Stearate \n",
      "\n",
      "Generated Answer: The La Roche-Posay Effaclar Duo+M Anti-Blemish Corrective Gel Moisturiser contains several ingredients with positive effects:\n",
      "\n",
      "*   **Glycerin, Pentylene Glycol, Propanediol, Zinc PCA, Xanthan Gum:** These hydrates the skin.\n",
      "*   **Dimethicone, Isohexadecane, Potassium Cetyl Phosphate, Myristyl Myristate, Glyceryl Stearate Se, Sorbitan Oleate, Isocetyl Stearate:** These improves skin texture.\n",
      "*   **Citric Acid, Niacinamide, Zinc PCA, Carnosine, Tocopherol, Disodium EDTA:** These prevents aging.\n",
      "*   **Citric Acid, Niacinamide:** These improves skin tone.\n",
      "*   **Caprylyl Glycol, Xanthan Gum, Salicylic Acid, Zinc PCA:** These kills bacteria.\n",
      "*   **Salicylic Acid:** Treats and prevents acne. \n",
      "\n",
      "Score: 70.0\n",
      "Accuracy: Medium\n",
      "Relevance: High\n",
      "Explanation: The generated answer lists ingredients found in the reference answer, which is good. However, it makes claims about the ingredients' effects (e.g., hydration, texture improvement, anti-aging, etc.) that are not explicitly stated or supported by the reference. While some of these claims might be generally true about these ingredients, the question specifically asks for ingredients present in the product, not their general benefits. Therefore, while the presence of the ingredients is accurate, the added claims about their effects introduce potential inaccuracies and go beyond the scope of the reference.\n"
     ]
    }
   ],
   "source": [
    "print_info(0, df)"
   ]
  },
  {
   "cell_type": "markdown",
   "id": "d0a95d3e",
   "metadata": {},
   "source": [
    "## Notable"
   ]
  },
  {
   "cell_type": "code",
   "execution_count": 74,
   "id": "4979f40a",
   "metadata": {},
   "outputs": [],
   "source": [
    "import pandas as pd\n",
    "df_notable = pd.read_csv(r'/home/jasmine/Documents/Study/DATN/code/qa-cosmetics-model/evaluate/result/tdcosmetics/neo4j/product_triplets/neo4j_products_notable_ingredients.csv')\n",
    "df_notable1 = pd.read_csv(r'/home/jasmine/Documents/Study/DATN/code/qa-cosmetics-model/evaluate/result/tdcosmetics/neo4j/product_triplets/neo4j_products_notable_ingredients copy.csv')"
   ]
  },
  {
   "cell_type": "code",
   "execution_count": 75,
   "id": "46ab28b1",
   "metadata": {},
   "outputs": [],
   "source": [
    "df_notable = df_notable[df_notable['Score'].notna()]\n",
    "df_notable1 = df_notable1[df_notable1['Score'].notna()]"
   ]
  },
  {
   "cell_type": "code",
   "execution_count": 76,
   "id": "61568776",
   "metadata": {},
   "outputs": [],
   "source": [
    "df = pd.concat([df_notable1, df_notable])\n",
    "df = df.drop_duplicates(subset=['Question', 'Answer'], keep='first')"
   ]
  },
  {
   "cell_type": "code",
   "execution_count": 77,
   "id": "601ef385",
   "metadata": {},
   "outputs": [
    {
     "data": {
      "text/plain": [
       "Score\n",
       "100.0    2319\n",
       "70.0      314\n",
       "60.0       32\n",
       "50.0       28\n",
       "80.0       23\n",
       "75.0       18\n",
       "20.0       16\n",
       "0.0         9\n",
       "10.0        6\n",
       "30.0        2\n",
       "Name: count, dtype: int64"
      ]
     },
     "execution_count": 77,
     "metadata": {},
     "output_type": "execute_result"
    }
   ],
   "source": [
    "df['Score'].value_counts()"
   ]
  },
  {
   "cell_type": "code",
   "execution_count": 78,
   "id": "79551cbe",
   "metadata": {},
   "outputs": [
    {
     "data": {
      "text/plain": [
       "0.966389591615468"
      ]
     },
     "execution_count": 78,
     "metadata": {},
     "output_type": "execute_result"
    }
   ],
   "source": [
    "len(df[df['Score'] >= 70]) / len(df)"
   ]
  },
  {
   "cell_type": "code",
   "execution_count": 79,
   "id": "5a488d87",
   "metadata": {},
   "outputs": [],
   "source": [
    "df.to_csv(r'result/tdcosmetics/neo4j/product_triplets/products_notable_ingredients.csv', index=False)"
   ]
  },
  {
   "cell_type": "code",
   "execution_count": 24,
   "id": "4e9e1a61",
   "metadata": {},
   "outputs": [
    {
     "data": {
      "text/plain": [
       "0.19801980198019803"
      ]
     },
     "execution_count": 24,
     "metadata": {},
     "output_type": "execute_result"
    }
   ],
   "source": [
    "len(df_notable[df_notable['Score'] >= 70]) / len(df_notable)"
   ]
  },
  {
   "cell_type": "code",
   "execution_count": 8,
   "id": "4e3e6a71",
   "metadata": {},
   "outputs": [
    {
     "name": "stdout",
     "output_type": "stream",
     "text": [
      "Start row = 0\n"
     ]
    }
   ],
   "source": [
    "df_notable = find_processing_rows(df_notable)"
   ]
  },
  {
   "cell_type": "markdown",
   "id": "74cf0c0d",
   "metadata": {},
   "source": [
    "# Beauty center forum"
   ]
  },
  {
   "cell_type": "code",
   "execution_count": 2,
   "id": "9687ec34",
   "metadata": {},
   "outputs": [],
   "source": [
    "df1 = pd.read_csv(r'/home/jasmine/Documents/Study/DATN/code/qa-cosmetics-model/evaluate/result/tdcosmetics/beauty_center/beauty_center.csv')\n",
    "df2 = pd.read_csv(r'/home/jasmine/Documents/Study/DATN/code/qa-cosmetics-model/evaluate/result/tdcosmetics/beauty_center/beauty_center_2.csv')\n",
    "df = pd.concat([df1, df2])\n",
    "df = df[df['Score'].notna()]"
   ]
  },
  {
   "cell_type": "code",
   "execution_count": 3,
   "id": "4916bbed",
   "metadata": {},
   "outputs": [
    {
     "data": {
      "text/plain": [
       "Score\n",
       "85.0      1\n",
       "97.0      1\n",
       "80.0      2\n",
       "25.0      2\n",
       "40.0      3\n",
       "50.0      3\n",
       "100.0     7\n",
       "30.0      7\n",
       "65.0      8\n",
       "0.0       9\n",
       "60.0     10\n",
       "95.0     11\n",
       "20.0     11\n",
       "75.0     16\n",
       "70.0     30\n",
       "Name: count, dtype: int64"
      ]
     },
     "execution_count": 3,
     "metadata": {},
     "output_type": "execute_result"
    }
   ],
   "source": [
    "df['Score'].value_counts().sort_values()"
   ]
  },
  {
   "cell_type": "code",
   "execution_count": 5,
   "id": "68c153e3",
   "metadata": {},
   "outputs": [
    {
     "data": {
      "text/plain": [
       "Accuracy\n",
       "High      22\n",
       "Low       34\n",
       "Medium    65\n",
       "Name: count, dtype: int64"
      ]
     },
     "execution_count": 5,
     "metadata": {},
     "output_type": "execute_result"
    }
   ],
   "source": [
    "df['Accuracy'].value_counts().sort_values()"
   ]
  },
  {
   "cell_type": "code",
   "execution_count": 6,
   "id": "332b53c6",
   "metadata": {},
   "outputs": [
    {
     "data": {
      "text/plain": [
       "Relevance\n",
       "Low       30\n",
       "High      32\n",
       "Medium    59\n",
       "Name: count, dtype: int64"
      ]
     },
     "execution_count": 6,
     "metadata": {},
     "output_type": "execute_result"
    }
   ],
   "source": [
    "df['Relevance'].value_counts().sort_values()"
   ]
  },
  {
   "cell_type": "code",
   "execution_count": 8,
   "id": "8b33e940",
   "metadata": {},
   "outputs": [
    {
     "data": {
      "text/plain": [
       "121"
      ]
     },
     "execution_count": 8,
     "metadata": {},
     "output_type": "execute_result"
    }
   ],
   "source": [
    "len(df)"
   ]
  },
  {
   "cell_type": "code",
   "execution_count": 219,
   "id": "d1a72c9d",
   "metadata": {},
   "outputs": [],
   "source": [
    "df1 = pd.read_csv(r'/home/jasmine/Documents/Study/DATN/code/qa-cosmetics-model/evaluate/result/gemini/all/beauty_center.csv')\n",
    "df2 = pd.read_csv(r'/home/jasmine/Documents/Study/DATN/code/qa-cosmetics-model/evaluate/result/gemini/all/beauty_center_2.csv')\n",
    "df_gemini = pd.concat([df1, df2])\n",
    "df_gemini = df_gemini[df_gemini['Score'].notna()]"
   ]
  },
  {
   "cell_type": "code",
   "execution_count": 222,
   "id": "86ff6b36",
   "metadata": {},
   "outputs": [
    {
     "data": {
      "text/plain": [
       "Score\n",
       "40.0     1\n",
       "93.0     1\n",
       "92.0     1\n",
       "50.0     1\n",
       "60.0     4\n",
       "85.0     4\n",
       "80.0     5\n",
       "65.0     7\n",
       "90.0     9\n",
       "70.0    15\n",
       "95.0    33\n",
       "75.0    43\n",
       "Name: count, dtype: int64"
      ]
     },
     "execution_count": 222,
     "metadata": {},
     "output_type": "execute_result"
    }
   ],
   "source": [
    "df_gemini['Score'].value_counts().sort_values()"
   ]
  },
  {
   "cell_type": "code",
   "execution_count": null,
   "id": "d194e530",
   "metadata": {},
   "outputs": [
    {
     "data": {
      "text/plain": [
       "96"
      ]
     },
     "execution_count": 223,
     "metadata": {},
     "output_type": "execute_result"
    }
   ],
   "source": [
    "len(df[df['Score'] > 70])\n",
    "len(df_gemini[df_gemini['Score'] > 70])"
   ]
  },
  {
   "cell_type": "code",
   "execution_count": null,
   "id": "d75aa201",
   "metadata": {},
   "outputs": [
    {
     "data": {
      "text/plain": [
       "38"
      ]
     },
     "execution_count": 224,
     "metadata": {},
     "output_type": "execute_result"
    }
   ],
   "source": [
    "len(df[df['Score'] > 70])"
   ]
  },
  {
   "cell_type": "code",
   "execution_count": null,
   "id": "a16dd042",
   "metadata": {},
   "outputs": [],
   "source": []
  }
 ],
 "metadata": {
  "kernelspec": {
   "display_name": "venv",
   "language": "python",
   "name": "python3"
  },
  "language_info": {
   "codemirror_mode": {
    "name": "ipython",
    "version": 3
   },
   "file_extension": ".py",
   "mimetype": "text/x-python",
   "name": "python",
   "nbconvert_exporter": "python",
   "pygments_lexer": "ipython3",
   "version": "3.12.3"
  }
 },
 "nbformat": 4,
 "nbformat_minor": 5
}
