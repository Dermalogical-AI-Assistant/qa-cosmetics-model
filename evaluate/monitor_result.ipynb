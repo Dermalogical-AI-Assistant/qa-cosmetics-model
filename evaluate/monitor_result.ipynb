{
 "cells": [
  {
   "cell_type": "code",
   "execution_count": 22,
   "id": "d47eaa7f",
   "metadata": {},
   "outputs": [],
   "source": [
    "import pandas as pd \n",
    "df = pd.read_csv('result/tdcosmetics/neo4j/products/neo4j_products_skincare_concern.csv')\n",
    "df_backup = pd.read_csv('result/tdcosmetics/neo4j/products/neo4j_products_skincare_concern_backup.csv')"
   ]
  },
  {
   "cell_type": "code",
   "execution_count": 23,
   "id": "50c5c8ff",
   "metadata": {},
   "outputs": [
    {
     "data": {
      "text/plain": [
       "4007"
      ]
     },
     "execution_count": 23,
     "metadata": {},
     "output_type": "execute_result"
    }
   ],
   "source": [
    "df = df[3747:]\n",
    "df_backup = df_backup[:3747]\n",
    "\n",
    "df_all = pd.concat([df_backup, df])\n",
    "len(df_all)"
   ]
  },
  {
   "cell_type": "code",
   "execution_count": 30,
   "id": "1b17fab0",
   "metadata": {},
   "outputs": [
    {
     "data": {
      "text/plain": [
       "3990"
      ]
     },
     "execution_count": 30,
     "metadata": {},
     "output_type": "execute_result"
    }
   ],
   "source": [
    "len(df_all[df_all['Score'].notna()])"
   ]
  },
  {
   "cell_type": "code",
   "execution_count": 33,
   "id": "8d4227d9",
   "metadata": {},
   "outputs": [],
   "source": [
    "df_errors = df_all[~df_all['Score'].notna()]"
   ]
  },
  {
   "cell_type": "code",
   "execution_count": 34,
   "id": "1357df74",
   "metadata": {},
   "outputs": [],
   "source": [
    "df_errors.to_csv('/home/jasmine/Documents/Study/DATN/code/qa-cosmetics-model/evaluate/result/tdcosmetics/neo4j/products/neo4j_products_skincare_concern_errors.csv')"
   ]
  },
  {
   "cell_type": "code",
   "execution_count": 40,
   "id": "5d718032",
   "metadata": {},
   "outputs": [
    {
     "data": {
      "text/plain": [
       "0.8874469678063389"
      ]
     },
     "execution_count": 40,
     "metadata": {},
     "output_type": "execute_result"
    }
   ],
   "source": [
    "len(df_all[df_all['Score'] >= 70])/len(df_all)"
   ]
  },
  {
   "cell_type": "code",
   "execution_count": 37,
   "id": "7bc00217",
   "metadata": {},
   "outputs": [
    {
     "data": {
      "text/plain": [
       "Score\n",
       "100.0    3350\n",
       "30.0      120\n",
       "70.0      106\n",
       "0.0       102\n",
       "20.0       86\n",
       "75.0       78\n",
       "40.0       45\n",
       "60.0       40\n",
       "50.0       19\n",
       "25.0       10\n",
       "80.0        9\n",
       "85.0        8\n",
       "65.0        5\n",
       "95.0        5\n",
       "10.0        4\n",
       "15.0        2\n",
       "35.0        1\n",
       "Name: count, dtype: int64"
      ]
     },
     "execution_count": 37,
     "metadata": {},
     "output_type": "execute_result"
    }
   ],
   "source": [
    "df_all['Score'].value_counts()"
   ]
  },
  {
   "cell_type": "code",
   "execution_count": 39,
   "id": "dbd03148",
   "metadata": {},
   "outputs": [
    {
     "data": {
      "text/html": [
       "<div>\n",
       "<style scoped>\n",
       "    .dataframe tbody tr th:only-of-type {\n",
       "        vertical-align: middle;\n",
       "    }\n",
       "\n",
       "    .dataframe tbody tr th {\n",
       "        vertical-align: top;\n",
       "    }\n",
       "\n",
       "    .dataframe thead th {\n",
       "        text-align: right;\n",
       "    }\n",
       "</style>\n",
       "<table border=\"1\" class=\"dataframe\">\n",
       "  <thead>\n",
       "    <tr style=\"text-align: right;\">\n",
       "      <th></th>\n",
       "      <th>Question</th>\n",
       "      <th>Answer</th>\n",
       "      <th>Generated_Answer</th>\n",
       "      <th>Response_Time</th>\n",
       "      <th>Verdict</th>\n",
       "      <th>Score</th>\n",
       "      <th>Explanation</th>\n",
       "      <th>Accuracy</th>\n",
       "      <th>Relevance</th>\n",
       "    </tr>\n",
       "  </thead>\n",
       "  <tbody>\n",
       "    <tr>\n",
       "      <th>6</th>\n",
       "      <td>What skincare concern does Dermalogica Dynamic...</td>\n",
       "      <td>['anti-ageing', 'dull-skin', 'uneven-skintone'...</td>\n",
       "      <td>Unfortunately, I don't have enough information...</td>\n",
       "      <td>3.129027</td>\n",
       "      <td>Incorrect</td>\n",
       "      <td>30.0</td>\n",
       "      <td>The generated answer states that the specific ...</td>\n",
       "      <td>Low</td>\n",
       "      <td>Low</td>\n",
       "    </tr>\n",
       "    <tr>\n",
       "      <th>81</th>\n",
       "      <td>What skincare concern does Alpha-H Reusable Co...</td>\n",
       "      <td>['acne-blemishes']</td>\n",
       "      <td>Based on the provided information, the Alpha-H...</td>\n",
       "      <td>5.303127</td>\n",
       "      <td>Incorrect</td>\n",
       "      <td>30.0</td>\n",
       "      <td>The generated answer does not align with the r...</td>\n",
       "      <td>Low</td>\n",
       "      <td>Medium</td>\n",
       "    </tr>\n",
       "    <tr>\n",
       "      <th>146</th>\n",
       "      <td>What skincare concern does Dr. Barbara Sturm T...</td>\n",
       "      <td>['blocked-pores-dead-skin', 'normal-combination']</td>\n",
       "      <td>Dr. Barbara Sturm The Better B Niacinamide Ser...</td>\n",
       "      <td>3.026855</td>\n",
       "      <td>Incorrect</td>\n",
       "      <td>30.0</td>\n",
       "      <td>The generated answer incorrectly states that t...</td>\n",
       "      <td>Low</td>\n",
       "      <td>Low</td>\n",
       "    </tr>\n",
       "    <tr>\n",
       "      <th>154</th>\n",
       "      <td>What skincare concern does Caudalie Resveratro...</td>\n",
       "      <td>['anti-ageing']</td>\n",
       "      <td>Based on the available information, I cannot d...</td>\n",
       "      <td>4.092702</td>\n",
       "      <td>Incorrect</td>\n",
       "      <td>30.0</td>\n",
       "      <td>The generated answer fails to align with the r...</td>\n",
       "      <td>Low</td>\n",
       "      <td>Medium</td>\n",
       "    </tr>\n",
       "    <tr>\n",
       "      <th>178</th>\n",
       "      <td>What skincare concern does Biossance Squalane ...</td>\n",
       "      <td>['anti-ageing', 'dark-circles', 'sensitive']</td>\n",
       "      <td>Based on the available information, I cannot d...</td>\n",
       "      <td>3.507575</td>\n",
       "      <td>Incorrect</td>\n",
       "      <td>30.0</td>\n",
       "      <td>The generated answer fails to correctly identi...</td>\n",
       "      <td>Low</td>\n",
       "      <td>Low</td>\n",
       "    </tr>\n",
       "    <tr>\n",
       "      <th>...</th>\n",
       "      <td>...</td>\n",
       "      <td>...</td>\n",
       "      <td>...</td>\n",
       "      <td>...</td>\n",
       "      <td>...</td>\n",
       "      <td>...</td>\n",
       "      <td>...</td>\n",
       "      <td>...</td>\n",
       "      <td>...</td>\n",
       "    </tr>\n",
       "    <tr>\n",
       "      <th>3910</th>\n",
       "      <td>What skincare concern does Elemis Pro-Collagen...</td>\n",
       "      <td>['anti-ageing']</td>\n",
       "      <td>I am sorry, but the provided data does not con...</td>\n",
       "      <td>4.762084</td>\n",
       "      <td>Incorrect</td>\n",
       "      <td>30.0</td>\n",
       "      <td>The reference answer clearly states that the E...</td>\n",
       "      <td>Low</td>\n",
       "      <td>Low</td>\n",
       "    </tr>\n",
       "    <tr>\n",
       "      <th>3921</th>\n",
       "      <td>What skincare concern does The Ordinary UV Fil...</td>\n",
       "      <td>['anti-ageing', 'sensitive']</td>\n",
       "      <td>I am sorry, but based on the information I hav...</td>\n",
       "      <td>5.677248</td>\n",
       "      <td>Incorrect</td>\n",
       "      <td>30.0</td>\n",
       "      <td>The generated answer fails to align with the r...</td>\n",
       "      <td>Low</td>\n",
       "      <td>Low</td>\n",
       "    </tr>\n",
       "    <tr>\n",
       "      <th>3973</th>\n",
       "      <td>What skincare concern does Garnier Micellar Wa...</td>\n",
       "      <td>['OILY_SKIN', 'SENSITIVE_SKIN', 'UNEVEN_SKINTO...</td>\n",
       "      <td>The Garnier Micellar Water Sensitive Skin and ...</td>\n",
       "      <td>5.296285</td>\n",
       "      <td>Incorrect</td>\n",
       "      <td>30.0</td>\n",
       "      <td>The generated answer incorrectly claims that t...</td>\n",
       "      <td>Low</td>\n",
       "      <td>Medium</td>\n",
       "    </tr>\n",
       "    <tr>\n",
       "      <th>3984</th>\n",
       "      <td>What skincare concern does Elemis Pro-Collagen...</td>\n",
       "      <td>['ACNE_BLEMISHES', 'UNEVEN_SKINTONE']</td>\n",
       "      <td>Elemis Pro-Collagen Cleansing Balm is designed...</td>\n",
       "      <td>3.989172</td>\n",
       "      <td>Incorrect</td>\n",
       "      <td>30.0</td>\n",
       "      <td>The generated answer claims that the Elemis Pr...</td>\n",
       "      <td>Low</td>\n",
       "      <td>Low</td>\n",
       "    </tr>\n",
       "    <tr>\n",
       "      <th>3998</th>\n",
       "      <td>What skincare concern does Elemis Pro-Collagen...</td>\n",
       "      <td>['ACNE_BLEMISHES', 'UNEVEN_SKINTONE']</td>\n",
       "      <td>Elemis Pro-Collagen Cleansing Balm 100g (Vario...</td>\n",
       "      <td>6.143693</td>\n",
       "      <td>Incorrect</td>\n",
       "      <td>30.0</td>\n",
       "      <td>The generated answer states that the product a...</td>\n",
       "      <td>Low</td>\n",
       "      <td>Medium</td>\n",
       "    </tr>\n",
       "  </tbody>\n",
       "</table>\n",
       "<p>120 rows × 9 columns</p>\n",
       "</div>"
      ],
      "text/plain": [
       "                                               Question  \\\n",
       "6     What skincare concern does Dermalogica Dynamic...   \n",
       "81    What skincare concern does Alpha-H Reusable Co...   \n",
       "146   What skincare concern does Dr. Barbara Sturm T...   \n",
       "154   What skincare concern does Caudalie Resveratro...   \n",
       "178   What skincare concern does Biossance Squalane ...   \n",
       "...                                                 ...   \n",
       "3910  What skincare concern does Elemis Pro-Collagen...   \n",
       "3921  What skincare concern does The Ordinary UV Fil...   \n",
       "3973  What skincare concern does Garnier Micellar Wa...   \n",
       "3984  What skincare concern does Elemis Pro-Collagen...   \n",
       "3998  What skincare concern does Elemis Pro-Collagen...   \n",
       "\n",
       "                                                 Answer  \\\n",
       "6     ['anti-ageing', 'dull-skin', 'uneven-skintone'...   \n",
       "81                                   ['acne-blemishes']   \n",
       "146   ['blocked-pores-dead-skin', 'normal-combination']   \n",
       "154                                     ['anti-ageing']   \n",
       "178        ['anti-ageing', 'dark-circles', 'sensitive']   \n",
       "...                                                 ...   \n",
       "3910                                    ['anti-ageing']   \n",
       "3921                       ['anti-ageing', 'sensitive']   \n",
       "3973  ['OILY_SKIN', 'SENSITIVE_SKIN', 'UNEVEN_SKINTO...   \n",
       "3984              ['ACNE_BLEMISHES', 'UNEVEN_SKINTONE']   \n",
       "3998              ['ACNE_BLEMISHES', 'UNEVEN_SKINTONE']   \n",
       "\n",
       "                                       Generated_Answer  Response_Time  \\\n",
       "6     Unfortunately, I don't have enough information...       3.129027   \n",
       "81    Based on the provided information, the Alpha-H...       5.303127   \n",
       "146   Dr. Barbara Sturm The Better B Niacinamide Ser...       3.026855   \n",
       "154   Based on the available information, I cannot d...       4.092702   \n",
       "178   Based on the available information, I cannot d...       3.507575   \n",
       "...                                                 ...            ...   \n",
       "3910  I am sorry, but the provided data does not con...       4.762084   \n",
       "3921  I am sorry, but based on the information I hav...       5.677248   \n",
       "3973  The Garnier Micellar Water Sensitive Skin and ...       5.296285   \n",
       "3984  Elemis Pro-Collagen Cleansing Balm is designed...       3.989172   \n",
       "3998  Elemis Pro-Collagen Cleansing Balm 100g (Vario...       6.143693   \n",
       "\n",
       "        Verdict  Score                                        Explanation  \\\n",
       "6     Incorrect   30.0  The generated answer states that the specific ...   \n",
       "81    Incorrect   30.0  The generated answer does not align with the r...   \n",
       "146   Incorrect   30.0  The generated answer incorrectly states that t...   \n",
       "154   Incorrect   30.0  The generated answer fails to align with the r...   \n",
       "178   Incorrect   30.0  The generated answer fails to correctly identi...   \n",
       "...         ...    ...                                                ...   \n",
       "3910  Incorrect   30.0  The reference answer clearly states that the E...   \n",
       "3921  Incorrect   30.0  The generated answer fails to align with the r...   \n",
       "3973  Incorrect   30.0  The generated answer incorrectly claims that t...   \n",
       "3984  Incorrect   30.0  The generated answer claims that the Elemis Pr...   \n",
       "3998  Incorrect   30.0  The generated answer states that the product a...   \n",
       "\n",
       "     Accuracy Relevance  \n",
       "6         Low       Low  \n",
       "81        Low    Medium  \n",
       "146       Low       Low  \n",
       "154       Low    Medium  \n",
       "178       Low       Low  \n",
       "...       ...       ...  \n",
       "3910      Low       Low  \n",
       "3921      Low       Low  \n",
       "3973      Low    Medium  \n",
       "3984      Low       Low  \n",
       "3998      Low    Medium  \n",
       "\n",
       "[120 rows x 9 columns]"
      ]
     },
     "execution_count": 39,
     "metadata": {},
     "output_type": "execute_result"
    }
   ],
   "source": [
    "df_all[df_all['Score'] == 30]"
   ]
  },
  {
   "cell_type": "code",
   "execution_count": 8,
   "id": "499c99ed",
   "metadata": {},
   "outputs": [
    {
     "data": {
      "text/html": [
       "<div>\n",
       "<style scoped>\n",
       "    .dataframe tbody tr th:only-of-type {\n",
       "        vertical-align: middle;\n",
       "    }\n",
       "\n",
       "    .dataframe tbody tr th {\n",
       "        vertical-align: top;\n",
       "    }\n",
       "\n",
       "    .dataframe thead th {\n",
       "        text-align: right;\n",
       "    }\n",
       "</style>\n",
       "<table border=\"1\" class=\"dataframe\">\n",
       "  <thead>\n",
       "    <tr style=\"text-align: right;\">\n",
       "      <th></th>\n",
       "      <th>Question</th>\n",
       "      <th>Answer</th>\n",
       "      <th>Generated_Answer</th>\n",
       "      <th>Response_Time</th>\n",
       "      <th>Verdict</th>\n",
       "      <th>Score</th>\n",
       "      <th>Explanation</th>\n",
       "      <th>Accuracy</th>\n",
       "      <th>Relevance</th>\n",
       "    </tr>\n",
       "  </thead>\n",
       "  <tbody>\n",
       "    <tr>\n",
       "      <th>54</th>\n",
       "      <td>How to use FOREO UFO 3 Device - Arctic Blue?</td>\n",
       "      <td>If you’re offline, press the universal button ...</td>\n",
       "      <td>NaN</td>\n",
       "      <td>NaN</td>\n",
       "      <td>NaN</td>\n",
       "      <td>NaN</td>\n",
       "      <td>NaN</td>\n",
       "      <td>NaN</td>\n",
       "      <td>NaN</td>\n",
       "    </tr>\n",
       "  </tbody>\n",
       "</table>\n",
       "</div>"
      ],
      "text/plain": [
       "                                        Question  \\\n",
       "54  How to use FOREO UFO 3 Device - Arctic Blue?   \n",
       "\n",
       "                                               Answer Generated_Answer  \\\n",
       "54  If you’re offline, press the universal button ...              NaN   \n",
       "\n",
       "    Response_Time Verdict  Score Explanation Accuracy Relevance  \n",
       "54            NaN     NaN    NaN         NaN      NaN       NaN  "
      ]
     },
     "execution_count": 8,
     "metadata": {},
     "output_type": "execute_result"
    }
   ],
   "source": [
    "df = pd.read_csv('result/tdcosmetics/neo4j/products/neo4j_products_how_to_use.csv')\n",
    "df[df['Question'] == 'How to use FOREO UFO 3 Device - Arctic Blue?']"
   ]
  },
  {
   "cell_type": "code",
   "execution_count": null,
   "id": "9ebb3cf3",
   "metadata": {},
   "outputs": [],
   "source": []
  }
 ],
 "metadata": {
  "kernelspec": {
   "display_name": "venv",
   "language": "python",
   "name": "python3"
  },
  "language_info": {
   "codemirror_mode": {
    "name": "ipython",
    "version": 3
   },
   "file_extension": ".py",
   "mimetype": "text/x-python",
   "name": "python",
   "nbconvert_exporter": "python",
   "pygments_lexer": "ipython3",
   "version": "3.12.3"
  }
 },
 "nbformat": 4,
 "nbformat_minor": 5
}
